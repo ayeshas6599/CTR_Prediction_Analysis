{
 "cells": [
  {
   "cell_type": "markdown",
   "metadata": {},
   "source": [
    "# CTR Prediction and Analysis Assignment\n",
    "\n",
    "###  CalTech Data Analytics certificate program\n",
    "\n",
    "#### Ayesha Siddiqua "
   ]
  },
  {
   "cell_type": "code",
   "execution_count": 1,
   "metadata": {},
   "outputs": [],
   "source": [
    "# Filtering out the warnings\n",
    "\n",
    "import warnings\n",
    "\n",
    "warnings.filterwarnings('ignore')"
   ]
  },
  {
   "cell_type": "code",
   "execution_count": 2,
   "metadata": {},
   "outputs": [],
   "source": [
    "# Importing the required libraries\n",
    "\n",
    "import numpy as np\n",
    "import pandas as pd\n",
    "import seaborn as sns\n",
    "import matplotlib.pyplot as plt\n",
    "from datetime import datetime\n",
    "from sklearn.tree import plot_tree, export_text"
   ]
  },
  {
   "cell_type": "markdown",
   "metadata": {},
   "source": [
    "## Read and Understand the data"
   ]
  },
  {
   "cell_type": "markdown",
   "metadata": {},
   "source": [
    "### Exploratory data analysis (EDA):"
   ]
  },
  {
   "cell_type": "code",
   "execution_count": 3,
   "metadata": {},
   "outputs": [],
   "source": [
    "df= pd.read_csv(\"data.csv\")"
   ]
  },
  {
   "cell_type": "code",
   "execution_count": 4,
   "metadata": {},
   "outputs": [
    {
     "data": {
      "text/plain": [
       "(99999, 27)"
      ]
     },
     "execution_count": 4,
     "metadata": {},
     "output_type": "execute_result"
    }
   ],
   "source": [
    "df.shape"
   ]
  },
  {
   "cell_type": "code",
   "execution_count": 5,
   "metadata": {},
   "outputs": [
    {
     "name": "stdout",
     "output_type": "stream",
     "text": [
      "<class 'pandas.core.frame.DataFrame'>\n",
      "RangeIndex: 99999 entries, 0 to 99998\n",
      "Data columns (total 27 columns):\n",
      " #   Column            Non-Null Count  Dtype \n",
      "---  ------            --------------  ----- \n",
      " 0   click             99999 non-null  bool  \n",
      " 1   C1                99999 non-null  int64 \n",
      " 2   banner_pos        99999 non-null  int64 \n",
      " 3   site_id           99999 non-null  object\n",
      " 4   site_domain       99999 non-null  object\n",
      " 5   site_category     99999 non-null  object\n",
      " 6   app_id            99999 non-null  object\n",
      " 7   app_domain        99999 non-null  object\n",
      " 8   app_category      99999 non-null  object\n",
      " 9   device_id         99999 non-null  object\n",
      " 10  device_ip         99999 non-null  object\n",
      " 11  device_model      99999 non-null  object\n",
      " 12  device_type       99999 non-null  int64 \n",
      " 13  device_conn_type  99999 non-null  int64 \n",
      " 14  C14               99999 non-null  int64 \n",
      " 15  C15               99999 non-null  int64 \n",
      " 16  C16               99999 non-null  int64 \n",
      " 17  C17               99999 non-null  int64 \n",
      " 18  C18               99999 non-null  int64 \n",
      " 19  C19               99999 non-null  int64 \n",
      " 20  C20               99999 non-null  int64 \n",
      " 21  C21               99999 non-null  int64 \n",
      " 22  month             99999 non-null  int64 \n",
      " 23  dayofweek         99999 non-null  int64 \n",
      " 24  day               99999 non-null  int64 \n",
      " 25  hour              99999 non-null  int64 \n",
      " 26  y                 99999 non-null  int64 \n",
      "dtypes: bool(1), int64(17), object(9)\n",
      "memory usage: 19.9+ MB\n"
     ]
    }
   ],
   "source": [
    "df.info()"
   ]
  },
  {
   "cell_type": "code",
   "execution_count": 6,
   "metadata": {},
   "outputs": [
    {
     "data": {
      "text/plain": [
       "click                 bool\n",
       "C1                   int64\n",
       "banner_pos           int64\n",
       "site_id             object\n",
       "site_domain         object\n",
       "site_category       object\n",
       "app_id              object\n",
       "app_domain          object\n",
       "app_category        object\n",
       "device_id           object\n",
       "device_ip           object\n",
       "device_model        object\n",
       "device_type          int64\n",
       "device_conn_type     int64\n",
       "C14                  int64\n",
       "C15                  int64\n",
       "C16                  int64\n",
       "C17                  int64\n",
       "C18                  int64\n",
       "C19                  int64\n",
       "C20                  int64\n",
       "C21                  int64\n",
       "month                int64\n",
       "dayofweek            int64\n",
       "day                  int64\n",
       "hour                 int64\n",
       "y                    int64\n",
       "dtype: object"
      ]
     },
     "execution_count": 6,
     "metadata": {},
     "output_type": "execute_result"
    }
   ],
   "source": [
    "df.dtypes"
   ]
  },
  {
   "cell_type": "code",
   "execution_count": 7,
   "metadata": {},
   "outputs": [
    {
     "data": {
      "text/html": [
       "<div>\n",
       "<style scoped>\n",
       "    .dataframe tbody tr th:only-of-type {\n",
       "        vertical-align: middle;\n",
       "    }\n",
       "\n",
       "    .dataframe tbody tr th {\n",
       "        vertical-align: top;\n",
       "    }\n",
       "\n",
       "    .dataframe thead th {\n",
       "        text-align: right;\n",
       "    }\n",
       "</style>\n",
       "<table border=\"1\" class=\"dataframe\">\n",
       "  <thead>\n",
       "    <tr style=\"text-align: right;\">\n",
       "      <th></th>\n",
       "      <th>click</th>\n",
       "      <th>C1</th>\n",
       "      <th>banner_pos</th>\n",
       "      <th>site_id</th>\n",
       "      <th>site_domain</th>\n",
       "      <th>site_category</th>\n",
       "      <th>app_id</th>\n",
       "      <th>app_domain</th>\n",
       "      <th>app_category</th>\n",
       "      <th>device_id</th>\n",
       "      <th>...</th>\n",
       "      <th>C17</th>\n",
       "      <th>C18</th>\n",
       "      <th>C19</th>\n",
       "      <th>C20</th>\n",
       "      <th>C21</th>\n",
       "      <th>month</th>\n",
       "      <th>dayofweek</th>\n",
       "      <th>day</th>\n",
       "      <th>hour</th>\n",
       "      <th>y</th>\n",
       "    </tr>\n",
       "  </thead>\n",
       "  <tbody>\n",
       "    <tr>\n",
       "      <th>0</th>\n",
       "      <td>False</td>\n",
       "      <td>1005</td>\n",
       "      <td>1</td>\n",
       "      <td>856e6d3f</td>\n",
       "      <td>58a89a43</td>\n",
       "      <td>f028772b</td>\n",
       "      <td>ecad2386</td>\n",
       "      <td>7801e8d9</td>\n",
       "      <td>07d7df22</td>\n",
       "      <td>a99f214a</td>\n",
       "      <td>...</td>\n",
       "      <td>2528</td>\n",
       "      <td>0</td>\n",
       "      <td>39</td>\n",
       "      <td>100075</td>\n",
       "      <td>221</td>\n",
       "      <td>10</td>\n",
       "      <td>1</td>\n",
       "      <td>28</td>\n",
       "      <td>14</td>\n",
       "      <td>0</td>\n",
       "    </tr>\n",
       "    <tr>\n",
       "      <th>1</th>\n",
       "      <td>True</td>\n",
       "      <td>1005</td>\n",
       "      <td>1</td>\n",
       "      <td>e151e245</td>\n",
       "      <td>7e091613</td>\n",
       "      <td>f028772b</td>\n",
       "      <td>ecad2386</td>\n",
       "      <td>7801e8d9</td>\n",
       "      <td>07d7df22</td>\n",
       "      <td>a99f214a</td>\n",
       "      <td>...</td>\n",
       "      <td>1934</td>\n",
       "      <td>2</td>\n",
       "      <td>39</td>\n",
       "      <td>-1</td>\n",
       "      <td>16</td>\n",
       "      <td>10</td>\n",
       "      <td>2</td>\n",
       "      <td>22</td>\n",
       "      <td>19</td>\n",
       "      <td>1</td>\n",
       "    </tr>\n",
       "    <tr>\n",
       "      <th>2</th>\n",
       "      <td>False</td>\n",
       "      <td>1005</td>\n",
       "      <td>0</td>\n",
       "      <td>e3c09f3a</td>\n",
       "      <td>d262cf1e</td>\n",
       "      <td>28905ebd</td>\n",
       "      <td>ecad2386</td>\n",
       "      <td>7801e8d9</td>\n",
       "      <td>07d7df22</td>\n",
       "      <td>a99f214a</td>\n",
       "      <td>...</td>\n",
       "      <td>2552</td>\n",
       "      <td>3</td>\n",
       "      <td>167</td>\n",
       "      <td>100202</td>\n",
       "      <td>23</td>\n",
       "      <td>10</td>\n",
       "      <td>3</td>\n",
       "      <td>23</td>\n",
       "      <td>18</td>\n",
       "      <td>0</td>\n",
       "    </tr>\n",
       "    <tr>\n",
       "      <th>3</th>\n",
       "      <td>False</td>\n",
       "      <td>1002</td>\n",
       "      <td>0</td>\n",
       "      <td>0da94452</td>\n",
       "      <td>248e439f</td>\n",
       "      <td>50e219e0</td>\n",
       "      <td>ecad2386</td>\n",
       "      <td>7801e8d9</td>\n",
       "      <td>07d7df22</td>\n",
       "      <td>0fa578fd</td>\n",
       "      <td>...</td>\n",
       "      <td>2478</td>\n",
       "      <td>3</td>\n",
       "      <td>167</td>\n",
       "      <td>100074</td>\n",
       "      <td>23</td>\n",
       "      <td>10</td>\n",
       "      <td>2</td>\n",
       "      <td>22</td>\n",
       "      <td>19</td>\n",
       "      <td>0</td>\n",
       "    </tr>\n",
       "    <tr>\n",
       "      <th>4</th>\n",
       "      <td>True</td>\n",
       "      <td>1005</td>\n",
       "      <td>0</td>\n",
       "      <td>1fbe01fe</td>\n",
       "      <td>f3845767</td>\n",
       "      <td>28905ebd</td>\n",
       "      <td>ecad2386</td>\n",
       "      <td>7801e8d9</td>\n",
       "      <td>07d7df22</td>\n",
       "      <td>a99f214a</td>\n",
       "      <td>...</td>\n",
       "      <td>1722</td>\n",
       "      <td>0</td>\n",
       "      <td>35</td>\n",
       "      <td>-1</td>\n",
       "      <td>79</td>\n",
       "      <td>10</td>\n",
       "      <td>1</td>\n",
       "      <td>21</td>\n",
       "      <td>8</td>\n",
       "      <td>1</td>\n",
       "    </tr>\n",
       "  </tbody>\n",
       "</table>\n",
       "<p>5 rows × 27 columns</p>\n",
       "</div>"
      ],
      "text/plain": [
       "   click    C1  banner_pos   site_id site_domain site_category    app_id  \\\n",
       "0  False  1005           1  856e6d3f    58a89a43      f028772b  ecad2386   \n",
       "1   True  1005           1  e151e245    7e091613      f028772b  ecad2386   \n",
       "2  False  1005           0  e3c09f3a    d262cf1e      28905ebd  ecad2386   \n",
       "3  False  1002           0  0da94452    248e439f      50e219e0  ecad2386   \n",
       "4   True  1005           0  1fbe01fe    f3845767      28905ebd  ecad2386   \n",
       "\n",
       "  app_domain app_category device_id  ...   C17 C18  C19     C20  C21  month  \\\n",
       "0   7801e8d9     07d7df22  a99f214a  ...  2528   0   39  100075  221     10   \n",
       "1   7801e8d9     07d7df22  a99f214a  ...  1934   2   39      -1   16     10   \n",
       "2   7801e8d9     07d7df22  a99f214a  ...  2552   3  167  100202   23     10   \n",
       "3   7801e8d9     07d7df22  0fa578fd  ...  2478   3  167  100074   23     10   \n",
       "4   7801e8d9     07d7df22  a99f214a  ...  1722   0   35      -1   79     10   \n",
       "\n",
       "   dayofweek  day  hour  y  \n",
       "0          1   28    14  0  \n",
       "1          2   22    19  1  \n",
       "2          3   23    18  0  \n",
       "3          2   22    19  0  \n",
       "4          1   21     8  1  \n",
       "\n",
       "[5 rows x 27 columns]"
      ]
     },
     "execution_count": 7,
     "metadata": {},
     "output_type": "execute_result"
    }
   ],
   "source": [
    "df.head()"
   ]
  },
  {
   "cell_type": "markdown",
   "metadata": {},
   "source": [
    "## Missing values and Outlier detection:"
   ]
  },
  {
   "cell_type": "markdown",
   "metadata": {},
   "source": [
    "#### Let us find out the total number of missing values n each column"
   ]
  },
  {
   "cell_type": "code",
   "execution_count": 8,
   "metadata": {},
   "outputs": [
    {
     "data": {
      "text/plain": [
       "click               0\n",
       "C1                  0\n",
       "banner_pos          0\n",
       "site_id             0\n",
       "site_domain         0\n",
       "site_category       0\n",
       "app_id              0\n",
       "app_domain          0\n",
       "app_category        0\n",
       "device_id           0\n",
       "device_ip           0\n",
       "device_model        0\n",
       "device_type         0\n",
       "device_conn_type    0\n",
       "C14                 0\n",
       "C15                 0\n",
       "C16                 0\n",
       "C17                 0\n",
       "C18                 0\n",
       "C19                 0\n",
       "C20                 0\n",
       "C21                 0\n",
       "month               0\n",
       "dayofweek           0\n",
       "day                 0\n",
       "hour                0\n",
       "y                   0\n",
       "dtype: int64"
      ]
     },
     "execution_count": 8,
     "metadata": {},
     "output_type": "execute_result"
    }
   ],
   "source": [
    "df.isnull().sum()"
   ]
  },
  {
   "cell_type": "markdown",
   "metadata": {},
   "source": [
    "#### Cocnlusion: There are no missing values in the data"
   ]
  },
  {
   "cell_type": "markdown",
   "metadata": {},
   "source": [
    "### Outlier analysis on the anonymous Categorical columns:"
   ]
  },
  {
   "cell_type": "code",
   "execution_count": 9,
   "metadata": {},
   "outputs": [
    {
     "data": {
      "text/plain": [
       "<AxesSubplot:>"
      ]
     },
     "execution_count": 9,
     "metadata": {},
     "output_type": "execute_result"
    },
    {
     "data": {
      "image/png": "[encoded data removed]",
      "text/plain": [
       "<Figure size 432x288 with 1 Axes>"
      ]
     },
     "metadata": {
      "needs_background": "light"
     },
     "output_type": "display_data"
    }
   ],
   "source": [
    "sns.boxplot(df[\"C1\"])"
   ]
  },
  {
   "cell_type": "code",
   "execution_count": 10,
   "metadata": {},
   "outputs": [
    {
     "data": {
      "text/plain": [
       "<AxesSubplot:>"
      ]
     },
     "execution_count": 10,
     "metadata": {},
     "output_type": "execute_result"
    },
    {
     "data": {
      "image/png": "[encoded data removed]",
      "text/plain": [
       "<Figure size 432x288 with 1 Axes>"
      ]
     },
     "metadata": {
      "needs_background": "light"
     },
     "output_type": "display_data"
    }
   ],
   "source": [
    "sns.boxplot(df[\"C14\"])"
   ]
  },
  {
   "cell_type": "code",
   "execution_count": 11,
   "metadata": {},
   "outputs": [
    {
     "data": {
      "text/plain": [
       "<AxesSubplot:>"
      ]
     },
     "execution_count": 11,
     "metadata": {},
     "output_type": "execute_result"
    },
    {
     "data": {
      "image/png": "[encoded data removed]",
      "text/plain": [
       "<Figure size 432x288 with 1 Axes>"
      ]
     },
     "metadata": {
      "needs_background": "light"
     },
     "output_type": "display_data"
    }
   ],
   "source": [
    "sns.boxplot(df[\"C15\"])"
   ]
  },
  {
   "cell_type": "code",
   "execution_count": 12,
   "metadata": {},
   "outputs": [
    {
     "data": {
      "text/plain": [
       "<AxesSubplot:>"
      ]
     },
     "execution_count": 12,
     "metadata": {},
     "output_type": "execute_result"
    },
    {
     "data": {
      "image/png": "[encoded data removed]",
      "text/plain": [
       "<Figure size 432x288 with 1 Axes>"
      ]
     },
     "metadata": {
      "needs_background": "light"
     },
     "output_type": "display_data"
    }
   ],
   "source": [
    "sns.boxplot(df[\"C16\"])"
   ]
  },
  {
   "cell_type": "code",
   "execution_count": 13,
   "metadata": {},
   "outputs": [
    {
     "data": {
      "text/plain": [
       "<AxesSubplot:>"
      ]
     },
     "execution_count": 13,
     "metadata": {},
     "output_type": "execute_result"
    },
    {
     "data": {
      "image/png": "[encoded data removed]",
      "text/plain": [
       "<Figure size 432x288 with 1 Axes>"
      ]
     },
     "metadata": {
      "needs_background": "light"
     },
     "output_type": "display_data"
    }
   ],
   "source": [
    "sns.boxplot(df[\"C17\"])"
   ]
  },
  {
   "cell_type": "code",
   "execution_count": 14,
   "metadata": {},
   "outputs": [
    {
     "data": {
      "text/plain": [
       "<AxesSubplot:>"
      ]
     },
     "execution_count": 14,
     "metadata": {},
     "output_type": "execute_result"
    },
    {
     "data": {
      "image/png": "[encoded data removed]",
      "text/plain": [
       "<Figure size 432x288 with 1 Axes>"
      ]
     },
     "metadata": {
      "needs_background": "light"
     },
     "output_type": "display_data"
    }
   ],
   "source": [
    "sns.boxplot(df[\"C18\"])"
   ]
  },
  {
   "cell_type": "code",
   "execution_count": 15,
   "metadata": {},
   "outputs": [
    {
     "data": {
      "text/plain": [
       "<AxesSubplot:>"
      ]
     },
     "execution_count": 15,
     "metadata": {},
     "output_type": "execute_result"
    },
    {
     "data": {
      "image/png": "[encoded data removed]",
      "text/plain": [
       "<Figure size 432x288 with 1 Axes>"
      ]
     },
     "metadata": {
      "needs_background": "light"
     },
     "output_type": "display_data"
    }
   ],
   "source": [
    "sns.boxplot(df[\"C19\"])"
   ]
  },
  {
   "cell_type": "code",
   "execution_count": 16,
   "metadata": {},
   "outputs": [
    {
     "data": {
      "text/plain": [
       "<AxesSubplot:>"
      ]
     },
     "execution_count": 16,
     "metadata": {},
     "output_type": "execute_result"
    },
    {
     "data": {
      "image/png": "[encoded data removed]",
      "text/plain": [
       "<Figure size 432x288 with 1 Axes>"
      ]
     },
     "metadata": {
      "needs_background": "light"
     },
     "output_type": "display_data"
    }
   ],
   "source": [
    "sns.boxplot(df[\"C20\"])"
   ]
  },
  {
   "cell_type": "code",
   "execution_count": 17,
   "metadata": {},
   "outputs": [
    {
     "data": {
      "text/plain": [
       "<AxesSubplot:>"
      ]
     },
     "execution_count": 17,
     "metadata": {},
     "output_type": "execute_result"
    },
    {
     "data": {
      "image/png": "[encoded data removed]",
      "text/plain": [
       "<Figure size 432x288 with 1 Axes>"
      ]
     },
     "metadata": {
      "needs_background": "light"
     },
     "output_type": "display_data"
    }
   ],
   "source": [
    "sns.boxplot(df[\"C21\"])"
   ]
  },
  {
   "cell_type": "markdown",
   "metadata": {},
   "source": [
    "#### Inference: there are too many outliers in the data and the values in these columns are imbalanced. This might affect the model prediction. Let us handle these columns further in the analysis."
   ]
  },
  {
   "cell_type": "markdown",
   "metadata": {},
   "source": [
    "## Clicks done after seeing the advertisement"
   ]
  },
  {
   "cell_type": "code",
   "execution_count": 18,
   "metadata": {},
   "outputs": [
    {
     "data": {
      "text/plain": [
       "False    83019\n",
       "True     16980\n",
       "Name: click, dtype: int64"
      ]
     },
     "execution_count": 18,
     "metadata": {},
     "output_type": "execute_result"
    }
   ],
   "source": [
    "df[\"click\"].value_counts()"
   ]
  },
  {
   "cell_type": "code",
   "execution_count": 19,
   "metadata": {},
   "outputs": [
    {
     "data": {
      "text/plain": [
       "0    83019\n",
       "1    16980\n",
       "Name: y, dtype: int64"
      ]
     },
     "execution_count": 19,
     "metadata": {},
     "output_type": "execute_result"
    }
   ],
   "source": [
    "df[\"y\"].value_counts()"
   ]
  },
  {
   "cell_type": "code",
   "execution_count": 20,
   "metadata": {},
   "outputs": [
    {
     "data": {
      "image/png": "[encoded data removed]",
      "text/plain": [
       "<Figure size 432x288 with 1 Axes>"
      ]
     },
     "metadata": {
      "needs_background": "light"
     },
     "output_type": "display_data"
    }
   ],
   "source": [
    "sns.countplot(data=df, x='click');"
   ]
  },
  {
   "cell_type": "code",
   "execution_count": 21,
   "metadata": {},
   "outputs": [
    {
     "data": {
      "text/plain": [
       "False    83.01983\n",
       "True     16.98017\n",
       "Name: click, dtype: float64"
      ]
     },
     "execution_count": 21,
     "metadata": {},
     "output_type": "execute_result"
    }
   ],
   "source": [
    "df['click'].value_counts() / len(df) * 100"
   ]
  },
  {
   "cell_type": "markdown",
   "metadata": {},
   "source": [
    "#### Inference: 83.01% of the data corresponds to a click whereas remaining 16.98 % of the data represents the Ads that were not clicked."
   ]
  },
  {
   "cell_type": "markdown",
   "metadata": {},
   "source": [
    "### Time Series plot for number of clicks on given dates"
   ]
  },
  {
   "cell_type": "code",
   "execution_count": 22,
   "metadata": {},
   "outputs": [
    {
     "data": {
      "text/plain": [
       "Text(0.5, 1.0, 'Hourly number of clicks during the dates')"
      ]
     },
     "execution_count": 22,
     "metadata": {},
     "output_type": "execute_result"
    },
    {
     "data": {
      "image/png": "[encoded data removed]",
      "text/plain": [
       "<Figure size 864x432 with 1 Axes>"
      ]
     },
     "metadata": {
      "needs_background": "light"
     },
     "output_type": "display_data"
    }
   ],
   "source": [
    "df.groupby('hour').sum()['click'].plot(figsize=(12,6))\n",
    "plt.ylabel('Number of clicks')\n",
    "plt.title('Hourly number of clicks during the dates')"
   ]
  },
  {
   "cell_type": "markdown",
   "metadata": {},
   "source": [
    "#### Inference: Maximum number of cliks were observed between the 10th and 15th hour."
   ]
  },
  {
   "cell_type": "code",
   "execution_count": 23,
   "metadata": {},
   "outputs": [
    {
     "data": {
      "text/plain": [
       "Text(0.5, 1.0, 'Number of Clicks')"
      ]
     },
     "execution_count": 23,
     "metadata": {},
     "output_type": "execute_result"
    },
    {
     "data": {
      "image/png": "[encoded data removed]",
      "text/plain": [
       "<Figure size 864x432 with 1 Axes>"
      ]
     },
     "metadata": {
      "needs_background": "light"
     },
     "output_type": "display_data"
    }
   ],
   "source": [
    "df.groupby('day').sum()['click'].plot(figsize=(12,6))\n",
    "plt.ylabel('Number of clicks')\n",
    "plt.title('Number of Clicks')"
   ]
  },
  {
   "cell_type": "markdown",
   "metadata": {},
   "source": [
    "#### Inference: Maximum number of cliks were observed on the 22nd day of the month."
   ]
  },
  {
   "cell_type": "markdown",
   "metadata": {},
   "source": [
    "## CTR -Click Through Rate"
   ]
  },
  {
   "cell_type": "code",
   "execution_count": 24,
   "metadata": {},
   "outputs": [],
   "source": [
    "click_df = df[df['click'] == 1]\n",
    "hour_df = df.groupby(['hour']).count()['click'].reset_index().rename(columns={'click':'impressions'})\n",
    "hour_df['clicks'] = click_df.groupby(['hour']).count().reset_index()['click']\n",
    "hour_df['CTR'] = hour_df['clicks'] / hour_df['impressions'] * 100"
   ]
  },
  {
   "cell_type": "code",
   "execution_count": 25,
   "metadata": {},
   "outputs": [
    {
     "data": {
      "text/plain": [
       "Text(0.5, 1.0, 'CTR Hourly')"
      ]
     },
     "execution_count": 25,
     "metadata": {},
     "output_type": "execute_result"
    },
    {
     "data": {
      "image/png": "[encoded data removed]",
      "text/plain": [
       "<Figure size 864x432 with 1 Axes>"
      ]
     },
     "metadata": {
      "needs_background": "light"
     },
     "output_type": "display_data"
    }
   ],
   "source": [
    "plt.figure(figsize=(12,6))\n",
    "sns.barplot(data=hour_df, y='CTR', x='hour')\n",
    "plt.title('CTR Hourly')"
   ]
  },
  {
   "cell_type": "code",
   "execution_count": 26,
   "metadata": {},
   "outputs": [
    {
     "data": {
      "text/html": [
       "<div>\n",
       "<style scoped>\n",
       "    .dataframe tbody tr th:only-of-type {\n",
       "        vertical-align: middle;\n",
       "    }\n",
       "\n",
       "    .dataframe tbody tr th {\n",
       "        vertical-align: top;\n",
       "    }\n",
       "\n",
       "    .dataframe thead th {\n",
       "        text-align: right;\n",
       "    }\n",
       "</style>\n",
       "<table border=\"1\" class=\"dataframe\">\n",
       "  <thead>\n",
       "    <tr style=\"text-align: right;\">\n",
       "      <th></th>\n",
       "      <th>hour</th>\n",
       "      <th>impressions</th>\n",
       "      <th>clicks</th>\n",
       "      <th>CTR</th>\n",
       "    </tr>\n",
       "  </thead>\n",
       "  <tbody>\n",
       "    <tr>\n",
       "      <th>15</th>\n",
       "      <td>15</td>\n",
       "      <td>5019</td>\n",
       "      <td>913</td>\n",
       "      <td>18.190875</td>\n",
       "    </tr>\n",
       "    <tr>\n",
       "      <th>16</th>\n",
       "      <td>16</td>\n",
       "      <td>5077</td>\n",
       "      <td>919</td>\n",
       "      <td>18.101241</td>\n",
       "    </tr>\n",
       "    <tr>\n",
       "      <th>1</th>\n",
       "      <td>1</td>\n",
       "      <td>2375</td>\n",
       "      <td>426</td>\n",
       "      <td>17.936842</td>\n",
       "    </tr>\n",
       "    <tr>\n",
       "      <th>23</th>\n",
       "      <td>23</td>\n",
       "      <td>2045</td>\n",
       "      <td>363</td>\n",
       "      <td>17.750611</td>\n",
       "    </tr>\n",
       "    <tr>\n",
       "      <th>14</th>\n",
       "      <td>14</td>\n",
       "      <td>5393</td>\n",
       "      <td>955</td>\n",
       "      <td>17.708140</td>\n",
       "    </tr>\n",
       "  </tbody>\n",
       "</table>\n",
       "</div>"
      ],
      "text/plain": [
       "    hour  impressions  clicks        CTR\n",
       "15    15         5019     913  18.190875\n",
       "16    16         5077     919  18.101241\n",
       "1      1         2375     426  17.936842\n",
       "23    23         2045     363  17.750611\n",
       "14    14         5393     955  17.708140"
      ]
     },
     "execution_count": 26,
     "metadata": {},
     "output_type": "execute_result"
    }
   ],
   "source": [
    "hour_df.sort_values(by='CTR', ascending=False).head()"
   ]
  },
  {
   "cell_type": "markdown",
   "metadata": {},
   "source": [
    "### From CTR plot we can see that highest CTR is at 15th and 16th hour with 18.19%, 18.10%  respectively."
   ]
  },
  {
   "cell_type": "code",
   "execution_count": 27,
   "metadata": {},
   "outputs": [],
   "source": [
    "weekday_dict = {\n",
    "    0: 'Monday',\n",
    "    1: 'Tuesday',\n",
    "    2: 'Wednesday',\n",
    "    3: 'Thursday',\n",
    "    4: 'Friday',\n",
    "    5: 'Saturday',\n",
    "    6: 'Sunday',\n",
    "}"
   ]
  },
  {
   "cell_type": "code",
   "execution_count": 28,
   "metadata": {},
   "outputs": [],
   "source": [
    "df['dayofweek'] = df['dayofweek'].map(weekday_dict)"
   ]
  },
  {
   "cell_type": "code",
   "execution_count": 29,
   "metadata": {},
   "outputs": [
    {
     "data": {
      "image/png": "[encoded data removed]",
      "text/plain": [
       "<Figure size 432x288 with 1 Axes>"
      ]
     },
     "metadata": {
      "needs_background": "light"
     },
     "output_type": "display_data"
    }
   ],
   "source": [
    "df.groupby('dayofweek').sum()['click'].plot();\n",
    "plt.ylabel('Number of labels');\n",
    "plt.title('Trend of clicks by day of week');"
   ]
  },
  {
   "cell_type": "code",
   "execution_count": 30,
   "metadata": {},
   "outputs": [
    {
     "data": {
      "text/plain": [
       "dayofweek\n",
       "Tuesday      3707\n",
       "Thursday     3630\n",
       "Wednesday    3570\n",
       "Sunday       1658\n",
       "Saturday     1483\n",
       "Monday       1474\n",
       "Friday       1458\n",
       "Name: click, dtype: int64"
      ]
     },
     "execution_count": 30,
     "metadata": {},
     "output_type": "execute_result"
    }
   ],
   "source": [
    "df.groupby('dayofweek').sum()['click'].sort_values(ascending=False)"
   ]
  },
  {
   "cell_type": "markdown",
   "metadata": {},
   "source": [
    "### Inference:\n",
    "#### We can see from the plot that the number of clicks starts to rise from sunday till tuesdays and then it goes down on wednesday\n",
    "#### We could see that tuesdays has most number of clicks "
   ]
  },
  {
   "cell_type": "code",
   "execution_count": 31,
   "metadata": {},
   "outputs": [
    {
     "data": {
      "text/plain": [
       "<AxesSubplot:xlabel='dayofweek'>"
      ]
     },
     "execution_count": 31,
     "metadata": {},
     "output_type": "execute_result"
    },
    {
     "data": {
      "image/png": "[encoded data removed]",
      "text/plain": [
       "<Figure size 432x288 with 1 Axes>"
      ]
     },
     "metadata": {
      "needs_background": "light"
     },
     "output_type": "display_data"
    }
   ],
   "source": [
    "df.groupby(['dayofweek', 'click']).size().unstack().plot(kind='bar')"
   ]
  },
  {
   "cell_type": "markdown",
   "metadata": {},
   "source": [
    "### CTR for weekdays"
   ]
  },
  {
   "cell_type": "code",
   "execution_count": 32,
   "metadata": {},
   "outputs": [],
   "source": [
    "click_df = df[df['click'] == 1]"
   ]
  },
  {
   "cell_type": "code",
   "execution_count": 33,
   "metadata": {},
   "outputs": [
    {
     "data": {
      "image/png": "[encoded data removed]",
      "text/plain": [
       "<Figure size 432x288 with 1 Axes>"
      ]
     },
     "metadata": {
      "needs_background": "light"
     },
     "output_type": "display_data"
    }
   ],
   "source": [
    "#weekday_df\n",
    "weekday_df = df[['dayofweek', 'click']].groupby(['dayofweek']).count().reset_index().rename(columns={'click':'impressions'})\n",
    "weekday_df['clicks'] = click_df[['dayofweek', 'click']].groupby('dayofweek').count().reset_index()['click']\n",
    "weekday_df['CTR'] = weekday_df['clicks'] / weekday_df['impressions'] * 100\n",
    "sns.barplot(data=weekday_df, x='dayofweek', y='CTR');"
   ]
  },
  {
   "cell_type": "markdown",
   "metadata": {},
   "source": [
    "### Let us analyze how other columns affect clicks"
   ]
  },
  {
   "cell_type": "markdown",
   "metadata": {},
   "source": [
    "## Banner Position:"
   ]
  },
  {
   "cell_type": "code",
   "execution_count": 34,
   "metadata": {},
   "outputs": [
    {
     "data": {
      "text/plain": [
       "array([1, 0, 4, 7, 2, 5, 3], dtype=int64)"
      ]
     },
     "execution_count": 34,
     "metadata": {},
     "output_type": "execute_result"
    }
   ],
   "source": [
    "df['banner_pos'].unique()"
   ]
  },
  {
   "cell_type": "code",
   "execution_count": 35,
   "metadata": {},
   "outputs": [
    {
     "data": {
      "text/plain": [
       "0    0.717787\n",
       "1    0.280523\n",
       "7    0.001070\n",
       "2    0.000300\n",
       "4    0.000190\n",
       "5    0.000090\n",
       "3    0.000040\n",
       "Name: banner_pos, dtype: float64"
      ]
     },
     "execution_count": 35,
     "metadata": {},
     "output_type": "execute_result"
    }
   ],
   "source": [
    "df.banner_pos.value_counts() / len(df)"
   ]
  },
  {
   "cell_type": "markdown",
   "metadata": {},
   "source": [
    "#### As we could see that Banner position 0 and 1 has 71.77% and 28.05 % of coverage in the dataset"
   ]
  },
  {
   "cell_type": "code",
   "execution_count": 36,
   "metadata": {},
   "outputs": [
    {
     "data": {
      "text/plain": [
       "11865"
      ]
     },
     "execution_count": 36,
     "metadata": {},
     "output_type": "execute_result"
    }
   ],
   "source": [
    "df[df['banner_pos'] == 0]['click'].sum()"
   ]
  },
  {
   "cell_type": "code",
   "execution_count": 37,
   "metadata": {},
   "outputs": [
    {
     "name": "stdout",
     "output_type": "stream",
     "text": [
      "Banner position 1 : 0.1808783687437616\n",
      "Banner position 0 : 0.16530134581626682\n",
      "Banner position 4 : 0.05263157894736842\n",
      "Banner position 7 : 0.3177570093457944\n",
      "Banner position 2 : 0.16666666666666666\n",
      "Banner position 5 : 0.0\n",
      "Banner position 3 : 0.25\n"
     ]
    }
   ],
   "source": [
    "# CTR for banner position\n",
    "for i in df.banner_pos.unique():\n",
    "    print('Banner position', i, ':', df[df['banner_pos'] == i]['click'].mean())"
   ]
  },
  {
   "cell_type": "markdown",
   "metadata": {},
   "source": [
    "#### Important banner pos are 0 with 71.7% data coverage and 0.16 CTR & 1 with 28.05% data coverage and 0.18 CTR"
   ]
  },
  {
   "cell_type": "code",
   "execution_count": 38,
   "metadata": {},
   "outputs": [
    {
     "data": {
      "image/png": "[encoded data removed]",
      "text/plain": [
       "<Figure size 432x288 with 1 Axes>"
      ]
     },
     "metadata": {
      "needs_background": "light"
     },
     "output_type": "display_data"
    }
   ],
   "source": [
    "df.groupby(['banner_pos', 'click']).size().unstack().plot(kind='bar');\n",
    "plt.title('Banner Position Histogram');\n",
    "plt.ylabel('Number of clicks');"
   ]
  },
  {
   "cell_type": "markdown",
   "metadata": {},
   "source": [
    "# Site ID Attribute:"
   ]
  },
  {
   "cell_type": "markdown",
   "metadata": {},
   "source": [
    "#### Let us get the unique values in site column"
   ]
  },
  {
   "cell_type": "code",
   "execution_count": 39,
   "metadata": {},
   "outputs": [
    {
     "data": {
      "text/plain": [
       "1485"
      ]
     },
     "execution_count": 39,
     "metadata": {},
     "output_type": "execute_result"
    }
   ],
   "source": [
    "len(df.site_id.unique())"
   ]
  },
  {
   "cell_type": "markdown",
   "metadata": {},
   "source": [
    "### Top 10 sites in the dataset are:"
   ]
  },
  {
   "cell_type": "code",
   "execution_count": 40,
   "metadata": {},
   "outputs": [
    {
     "data": {
      "image/png": "[encoded data removed]",
      "text/plain": [
       "<Figure size 432x288 with 1 Axes>"
      ]
     },
     "metadata": {
      "needs_background": "light"
     },
     "output_type": "display_data"
    }
   ],
   "source": [
    "(df.site_id.value_counts().sort_values(ascending=False).head(10) / len(df)).plot(kind='bar');\n",
    "plt.ylabel('CTR');\n",
    "plt.title('Top 10 site id for CTR');"
   ]
  },
  {
   "cell_type": "code",
   "execution_count": 41,
   "metadata": {},
   "outputs": [],
   "source": [
    "top10_id = (df.site_id.value_counts().sort_values(ascending=False).head(10) / len(df)).index"
   ]
  },
  {
   "cell_type": "code",
   "execution_count": 42,
   "metadata": {},
   "outputs": [
    {
     "name": "stdout",
     "output_type": "stream",
     "text": [
      "Site id - 85f751fd : CTR  0.12109266559324856\n",
      "Site id - 1fbe01fe : CTR  0.20287479510780482\n",
      "Site id - e151e245 : CTR  0.29649840836743974\n",
      "Site id - d9750ee7 : CTR  0.2815656565656566\n",
      "Site id - 5b08c53b : CTR  0.45770065075921906\n",
      "Site id - 5b4d2eda : CTR  0.1209133367929424\n",
      "Site id - 856e6d3f : CTR  0.03404255319148936\n",
      "Site id - a7853007 : CTR  0.10845431255337319\n",
      "Site id - b7e9786d : CTR  0.0639412997903564\n",
      "Site id - 5bcf81a2 : CTR  0.10545454545454545\n"
     ]
    }
   ],
   "source": [
    "for i in top10_id:\n",
    "    print('Site id -',i, ':', 'CTR ' ,df[df.site_id == i]['click'].mean())"
   ]
  },
  {
   "cell_type": "markdown",
   "metadata": {},
   "source": [
    "Top three site id which has highest CTR are:\n",
    "1. 5b08c53b : 45.77%\n",
    "2. e151e245 : 29.64%\n",
    "3. d9750ee7 : 28.15%"
   ]
  },
  {
   "cell_type": "code",
   "execution_count": 43,
   "metadata": {},
   "outputs": [
    {
     "data": {
      "text/plain": [
       "85f751fd    0.360224\n",
       "1fbe01fe    0.158622\n",
       "e151e245    0.065971\n",
       "d9750ee7    0.023760\n",
       "5b08c53b    0.023050\n",
       "5b4d2eda    0.019270\n",
       "856e6d3f    0.018800\n",
       "a7853007    0.011710\n",
       "b7e9786d    0.009540\n",
       "5bcf81a2    0.008250\n",
       "Name: site_id, dtype: float64"
      ]
     },
     "execution_count": 43,
     "metadata": {},
     "output_type": "execute_result"
    }
   ],
   "source": [
    "df.site_id.value_counts().sort_values(ascending=False).head(10) / len(df)"
   ]
  },
  {
   "cell_type": "code",
   "execution_count": 44,
   "metadata": {},
   "outputs": [
    {
     "data": {
      "image/png": "[encoded data removed]",
      "text/plain": [
       "<Figure size 432x288 with 1 Axes>"
      ]
     },
     "metadata": {
      "needs_background": "light"
     },
     "output_type": "display_data"
    }
   ],
   "source": [
    "top10_sites_df = df[df.site_id.isin(top10_id)]\n",
    "top10_sites_df.groupby(['site_id','click']).size().unstack().plot(kind='bar')\n",
    "plt.title('Number of clicks and non-clicks for top 10 site id');"
   ]
  },
  {
   "cell_type": "code",
   "execution_count": 45,
   "metadata": {},
   "outputs": [
    {
     "data": {
      "image/png": "[encoded data removed]",
      "text/plain": [
       "<Figure size 432x288 with 1 Axes>"
      ]
     },
     "metadata": {
      "needs_background": "light"
     },
     "output_type": "display_data"
    }
   ],
   "source": [
    "df_sites_ = top10_sites_df[['site_id', 'click']].groupby(['site_id']).count().reset_index().rename(columns={'click': 'impressions'})\n",
    "df_sites_['click'] = top10_sites_df[['site_id', 'click']].groupby(['site_id']).sum().reset_index()['click']\n",
    "df_sites_['CTR'] = df_sites_['click'] / df_sites_['impressions'] * 100\n",
    "sort_site = df_sites_.sort_values(by='CTR', ascending=False).site_id.tolist()\n",
    "sns.barplot(data=df_sites_, x='site_id', y='CTR',order=sort_site);\n",
    "plt.xticks(rotation=90)\n",
    "plt.title('CTR of Top 10 site id');\n",
    "plt.ylabel('CTR');"
   ]
  },
  {
   "cell_type": "markdown",
   "metadata": {},
   "source": [
    "#### Above plot shows the top 10 site id with CTR rates. Top 3 site id with CTR are as 45.77%, 29.64% and 28.15%"
   ]
  },
  {
   "cell_type": "markdown",
   "metadata": {},
   "source": [
    "# Site Domain"
   ]
  },
  {
   "cell_type": "code",
   "execution_count": 46,
   "metadata": {},
   "outputs": [
    {
     "data": {
      "text/plain": [
       "1331"
      ]
     },
     "execution_count": 46,
     "metadata": {},
     "output_type": "execute_result"
    }
   ],
   "source": [
    "df.site_domain.nunique()"
   ]
  },
  {
   "cell_type": "markdown",
   "metadata": {},
   "source": [
    "#### There are 1331 unique site domains in the dataset"
   ]
  },
  {
   "cell_type": "markdown",
   "metadata": {},
   "source": [
    "### Top 10 site domains:"
   ]
  },
  {
   "cell_type": "code",
   "execution_count": 47,
   "metadata": {},
   "outputs": [
    {
     "name": "stdout",
     "output_type": "stream",
     "text": [
      "The top 10 site domains that have most impressions:\n",
      "c4e18dd6    37.362374\n",
      "f3845767    15.862159\n",
      "7e091613     8.280083\n",
      "7687a86e     3.220032\n",
      "98572c79     2.456025\n",
      "16a36ef3     2.137021\n",
      "58a89a43     1.880019\n",
      "b12b9f85     0.971010\n",
      "9d54950b     0.909009\n",
      "17d996e6     0.826008\n",
      "Name: site_domain, dtype: float64\n"
     ]
    }
   ],
   "source": [
    "print('The top 10 site domains that have most impressions:')\n",
    "print((df.site_domain.value_counts()/ len(df)).head(10) * 100)"
   ]
  },
  {
   "cell_type": "code",
   "execution_count": 48,
   "metadata": {},
   "outputs": [
    {
     "name": "stdout",
     "output_type": "stream",
     "text": [
      "Site domain - c4e18dd6 : CTR  0.12555537712113912\n",
      "Site domain - f3845767 : CTR  0.20287479510780482\n",
      "Site domain - 7e091613 : CTR  0.25881642512077296\n",
      "Site domain - 7687a86e : CTR  0.4605590062111801\n",
      "Site domain - 98572c79 : CTR  0.28094462540716614\n",
      "Site domain - 16a36ef3 : CTR  0.13242863827795975\n",
      "Site domain - 58a89a43 : CTR  0.03404255319148936\n",
      "Site domain - b12b9f85 : CTR  0.06694129763130793\n",
      "Site domain - 9d54950b : CTR  0.09900990099009901\n",
      "Site domain - 17d996e6 : CTR  0.32929782082324455\n"
     ]
    }
   ],
   "source": [
    "top10_domain_id = (df['site_domain'].value_counts() / len(df)).head(10).index\n",
    "\n",
    "for i in top10_domain_id:\n",
    "    print('Site domain -',i, ':', 'CTR ' ,df[df.site_domain == i]['click'].mean())"
   ]
  },
  {
   "cell_type": "code",
   "execution_count": 49,
   "metadata": {},
   "outputs": [
    {
     "data": {
      "image/png": "[encoded data removed]",
      "text/plain": [
       "<Figure size 432x288 with 1 Axes>"
      ]
     },
     "metadata": {
      "needs_background": "light"
     },
     "output_type": "display_data"
    }
   ],
   "source": [
    "top10_domain_df = df[df.site_domain.isin(top10_domain_id)]\n",
    "top10_domain_df.groupby(['site_domain','click']).size().unstack().plot(kind='bar')\n",
    "plt.title('Number of clicks and non-clicks for top 10 site domains');"
   ]
  },
  {
   "cell_type": "code",
   "execution_count": 50,
   "metadata": {},
   "outputs": [
    {
     "data": {
      "image/png": "[encoded data removed]",
      "text/plain": [
       "<Figure size 432x288 with 1 Axes>"
      ]
     },
     "metadata": {
      "needs_background": "light"
     },
     "output_type": "display_data"
    }
   ],
   "source": [
    "df_domain_ = top10_domain_df[['site_domain', 'click']].groupby(['site_domain']).count().reset_index().rename(columns={'click': 'impressions'})\n",
    "df_domain_['click'] = top10_domain_df[['site_domain', 'click']].groupby(['site_domain']).sum().reset_index()['click']\n",
    "df_domain_['CTR'] = df_domain_['click'] / df_domain_['impressions'] * 100\n",
    "sort_domain = df_domain_.sort_values(by='CTR', ascending=False).site_domain.tolist()\n",
    "sns.barplot(data=df_domain_, x='site_domain', y='CTR',order=sort_domain);\n",
    "plt.xticks(rotation=90)\n",
    "plt.title('CTR of Top 10 site domain');\n",
    "plt.ylabel('CTR');"
   ]
  },
  {
   "cell_type": "markdown",
   "metadata": {},
   "source": [
    "# Site Category:"
   ]
  },
  {
   "cell_type": "code",
   "execution_count": 51,
   "metadata": {},
   "outputs": [
    {
     "data": {
      "text/plain": [
       "19"
      ]
     },
     "execution_count": 51,
     "metadata": {},
     "output_type": "execute_result"
    }
   ],
   "source": [
    "df.site_category.nunique()"
   ]
  },
  {
   "cell_type": "markdown",
   "metadata": {},
   "source": [
    "#### There are 19 unique site categories"
   ]
  },
  {
   "cell_type": "code",
   "execution_count": 52,
   "metadata": {},
   "outputs": [
    {
     "name": "stdout",
     "output_type": "stream",
     "text": [
      "The top 10 site category that have most impressions:\n",
      "50e219e0    40.839408\n",
      "f028772b    31.408314\n",
      "28905ebd    18.107181\n",
      "3e814130     7.668077\n",
      "f66779e6     0.634006\n",
      "75fa27f6     0.392004\n",
      "335d28a8     0.358004\n",
      "76b2941d     0.247002\n",
      "c0dd3be3     0.104001\n",
      "72722551     0.064001\n",
      "Name: site_category, dtype: float64\n"
     ]
    }
   ],
   "source": [
    "print('The top 10 site category that have most impressions:')\n",
    "print((df.site_category.value_counts()/ len(df)).head(10) * 100)"
   ]
  },
  {
   "cell_type": "code",
   "execution_count": 53,
   "metadata": {},
   "outputs": [
    {
     "name": "stdout",
     "output_type": "stream",
     "text": [
      "Site category - 50e219e0 : CTR  0.13122260584245451\n",
      "Site category - f028772b : CTR  0.17670657157412123\n",
      "Site category - 28905ebd : CTR  0.205942453194897\n",
      "Site category - 3e814130 : CTR  0.2841679707876891\n",
      "Site category - f66779e6 : CTR  0.04258675078864353\n",
      "Site category - 75fa27f6 : CTR  0.09948979591836735\n",
      "Site category - 335d28a8 : CTR  0.09497206703910614\n",
      "Site category - 76b2941d : CTR  0.016194331983805668\n",
      "Site category - c0dd3be3 : CTR  0.09615384615384616\n",
      "Site category - 72722551 : CTR  0.078125\n"
     ]
    }
   ],
   "source": [
    "top10_site_category = (df['site_category'].value_counts() / len(df)).head(10).index\n",
    "\n",
    "for i in top10_site_category:\n",
    "    print('Site category -',i, ':', 'CTR ' ,df[df.site_category == i]['click'].mean())"
   ]
  },
  {
   "cell_type": "code",
   "execution_count": 54,
   "metadata": {},
   "outputs": [
    {
     "data": {
      "image/png": "[encoded data removed]",
      "text/plain": [
       "<Figure size 432x288 with 1 Axes>"
      ]
     },
     "metadata": {
      "needs_background": "light"
     },
     "output_type": "display_data"
    }
   ],
   "source": [
    "top10_category_df = df[df.site_category.isin(top10_site_category)]\n",
    "top10_category_df.groupby(['site_category','click']).size().unstack().plot(kind='bar')\n",
    "plt.title('Number of clicks and non-clicks for top 10 site domains');"
   ]
  },
  {
   "cell_type": "code",
   "execution_count": 55,
   "metadata": {},
   "outputs": [
    {
     "data": {
      "image/png": "[encoded data removed]",
      "text/plain": [
       "<Figure size 432x288 with 1 Axes>"
      ]
     },
     "metadata": {
      "needs_background": "light"
     },
     "output_type": "display_data"
    }
   ],
   "source": [
    "df_category_ = top10_category_df[['site_category', 'click']].groupby(['site_category']).count().reset_index().rename(columns={'click': 'impressions'})\n",
    "df_category_['click'] = top10_category_df[['site_category', 'click']].groupby(['site_category']).sum().reset_index()['click']\n",
    "df_category_['CTR'] = df_category_['click'] / df_category_['impressions'] * 100\n",
    "sort_category = df_category_.sort_values(by='CTR', ascending=False).site_category.tolist()\n",
    "sns.barplot(data=df_category_, x='site_category', y='CTR',order=sort_category);\n",
    "plt.xticks(rotation=90)\n",
    "plt.title('CTR of Top 10 site domain');\n",
    "plt.ylabel('CTR');"
   ]
  },
  {
   "cell_type": "markdown",
   "metadata": {},
   "source": [
    "# Device Attribute:"
   ]
  },
  {
   "cell_type": "markdown",
   "metadata": {},
   "source": [
    "## Device ID:"
   ]
  },
  {
   "cell_type": "code",
   "execution_count": 56,
   "metadata": {},
   "outputs": [
    {
     "data": {
      "text/plain": [
       "16801"
      ]
     },
     "execution_count": 56,
     "metadata": {},
     "output_type": "execute_result"
    }
   ],
   "source": [
    "df.device_id.nunique()"
   ]
  },
  {
   "cell_type": "markdown",
   "metadata": {},
   "source": [
    "#### There are 16801 device id in the data set"
   ]
  },
  {
   "cell_type": "code",
   "execution_count": 57,
   "metadata": {},
   "outputs": [
    {
     "name": "stdout",
     "output_type": "stream",
     "text": [
      "The top 10 device id that have most impressions:\n",
      "a99f214a    82.579826\n",
      "c357dbff     0.062001\n",
      "0f7c61dc     0.051001\n",
      "afeffc18     0.034000\n",
      "936e92fb     0.027000\n",
      "cef4c8cc     0.012000\n",
      "28dc8687     0.011000\n",
      "d857ffbb     0.009000\n",
      "9af87478     0.009000\n",
      "02da5312     0.008000\n",
      "Name: device_id, dtype: float64\n"
     ]
    }
   ],
   "source": [
    "print('The top 10 device id that have most impressions:')\n",
    "print((df.device_id.value_counts()/ len(df)).head(10) * 100)"
   ]
  },
  {
   "cell_type": "code",
   "execution_count": 58,
   "metadata": {},
   "outputs": [
    {
     "name": "stdout",
     "output_type": "stream",
     "text": [
      "Device id - a99f214a : CTR  0.172586250741714\n",
      "Device id - c357dbff : CTR  0.6935483870967742\n",
      "Device id - 0f7c61dc : CTR  0.7647058823529411\n",
      "Device id - afeffc18 : CTR  0.23529411764705882\n",
      "Device id - 936e92fb : CTR  0.037037037037037035\n",
      "Device id - cef4c8cc : CTR  0.25\n",
      "Device id - 28dc8687 : CTR  0.0\n",
      "Device id - d857ffbb : CTR  0.2222222222222222\n",
      "Device id - 9af87478 : CTR  0.0\n",
      "Device id - 02da5312 : CTR  0.25\n"
     ]
    }
   ],
   "source": [
    "top10_device_id = (df['device_id'].value_counts() / len(df)).head(10).index\n",
    "\n",
    "for i in top10_device_id:\n",
    "    print('Device id -',i, ':', 'CTR ' ,df[df.device_id == i]['click'].mean())"
   ]
  },
  {
   "cell_type": "code",
   "execution_count": 59,
   "metadata": {},
   "outputs": [
    {
     "data": {
      "image/png": "[encoded data removed]",
      "text/plain": [
       "<Figure size 432x288 with 1 Axes>"
      ]
     },
     "metadata": {
      "needs_background": "light"
     },
     "output_type": "display_data"
    }
   ],
   "source": [
    "top10_device_id_df = df[df.device_id.isin(top10_device_id)]\n",
    "top10_device_id_df.groupby(['device_id','click']).size().unstack().plot(kind='bar')\n",
    "plt.title('Number of clicks and non-clicks for top 10 device id');"
   ]
  },
  {
   "cell_type": "code",
   "execution_count": 60,
   "metadata": {},
   "outputs": [
    {
     "data": {
      "image/png": "[encoded data removed]",
      "text/plain": [
       "<Figure size 432x288 with 1 Axes>"
      ]
     },
     "metadata": {
      "needs_background": "light"
     },
     "output_type": "display_data"
    }
   ],
   "source": [
    "df_device_id_ = top10_device_id_df[['device_id', 'click']].groupby(['device_id']).count().reset_index().rename(columns={'click': 'impressions'})\n",
    "df_device_id_['click'] = top10_device_id_df[['device_id', 'click']].groupby(['device_id']).sum().reset_index()['click']\n",
    "df_device_id_['CTR'] = df_device_id_['click'] / df_device_id_['impressions'] * 100\n",
    "sort_device_id = df_device_id_.sort_values(by='CTR', ascending=False).device_id.tolist()\n",
    "sns.barplot(data=df_device_id_, x='device_id', y='CTR',order=sort_device_id);\n",
    "plt.xticks(rotation=90)\n",
    "plt.title('CTR of Top 10 Device id');\n",
    "plt.ylabel('CTR');"
   ]
  },
  {
   "cell_type": "markdown",
   "metadata": {},
   "source": [
    "## Device Type:"
   ]
  },
  {
   "cell_type": "code",
   "execution_count": 61,
   "metadata": {},
   "outputs": [
    {
     "name": "stdout",
     "output_type": "stream",
     "text": [
      "There are  4 different kind of device types which are used in according to dataset\n"
     ]
    }
   ],
   "source": [
    "print('There are ', df['device_type'].nunique(), 'different kind of device types which are used in according to dataset')"
   ]
  },
  {
   "cell_type": "code",
   "execution_count": 62,
   "metadata": {},
   "outputs": [
    {
     "name": "stdout",
     "output_type": "stream",
     "text": [
      "Percentage of ads were shown to users \n",
      "\n",
      " 1    92.239922\n",
      "0     5.494055\n",
      "4     1.931019\n",
      "5     0.335003\n",
      "Name: device_type, dtype: float64\n"
     ]
    }
   ],
   "source": [
    "print('Percentage of ads were shown to users','\\n\\n', df['device_type'].value_counts() / len(df) * 100)"
   ]
  },
  {
   "cell_type": "code",
   "execution_count": 63,
   "metadata": {},
   "outputs": [
    {
     "data": {
      "image/png": "[encoded data removed]",
      "text/plain": [
       "<Figure size 432x288 with 1 Axes>"
      ]
     },
     "metadata": {
      "needs_background": "light"
     },
     "output_type": "display_data"
    }
   ],
   "source": [
    "df.groupby(['device_type','click']).size().unstack().plot(kind='bar')\n",
    "plt.title('Number of clicks and non-clicks device type');"
   ]
  },
  {
   "cell_type": "markdown",
   "metadata": {},
   "source": [
    "#### Device type 1 has higher impressions as well as clicks also as compared to other device types. After this device type 0 has most impressions and clicks"
   ]
  },
  {
   "cell_type": "code",
   "execution_count": 64,
   "metadata": {},
   "outputs": [
    {
     "data": {
      "image/png": "[encoded data removed]",
      "text/plain": [
       "<Figure size 432x288 with 1 Axes>"
      ]
     },
     "metadata": {
      "needs_background": "light"
     },
     "output_type": "display_data"
    }
   ],
   "source": [
    "df[df.click == 1].groupby(['hour', 'click']).size().unstack().plot(kind='bar')\n",
    "plt.title('Device type 1 with number of clicks hourly');\n",
    "plt.ylabel('number of clicks');"
   ]
  },
  {
   "cell_type": "markdown",
   "metadata": {},
   "source": [
    "# Removing unwanted Columns: "
   ]
  },
  {
   "cell_type": "code",
   "execution_count": 65,
   "metadata": {},
   "outputs": [],
   "source": [
    "train_df = df.copy()"
   ]
  },
  {
   "cell_type": "code",
   "execution_count": 66,
   "metadata": {},
   "outputs": [
    {
     "data": {
      "text/plain": [
       "Index(['click', 'C1', 'banner_pos', 'site_id', 'site_domain', 'site_category',\n",
       "       'app_id', 'app_domain', 'app_category', 'device_id', 'device_ip',\n",
       "       'device_model', 'device_type', 'device_conn_type', 'C14', 'C15', 'C16',\n",
       "       'C17', 'C18', 'C19', 'C20', 'C21', 'month', 'dayofweek', 'day', 'hour',\n",
       "       'y'],\n",
       "      dtype='object')"
      ]
     },
     "execution_count": 66,
     "metadata": {},
     "output_type": "execute_result"
    }
   ],
   "source": [
    "train_df.columns"
   ]
  },
  {
   "cell_type": "markdown",
   "metadata": {},
   "source": [
    "#### As the anonymous categorical columns had too many outliers, these columns will be dropped. Click variable is not required as we have \"y\" with 1 and 0 to represent click or not clicked. \"month\" variable has just one value and device id has more than 80k values so these will also be removed to ensure balanced model prediction."
   ]
  },
  {
   "cell_type": "code",
   "execution_count": 67,
   "metadata": {},
   "outputs": [],
   "source": [
    "train_df.drop(columns=['click', 'month', 'device_id', 'C1', 'C14','C15','C16','C17','C18','C19','C20','C21'], axis=1, inplace=True)"
   ]
  },
  {
   "cell_type": "code",
   "execution_count": 68,
   "metadata": {},
   "outputs": [
    {
     "data": {
      "text/html": [
       "<div>\n",
       "<style scoped>\n",
       "    .dataframe tbody tr th:only-of-type {\n",
       "        vertical-align: middle;\n",
       "    }\n",
       "\n",
       "    .dataframe tbody tr th {\n",
       "        vertical-align: top;\n",
       "    }\n",
       "\n",
       "    .dataframe thead th {\n",
       "        text-align: right;\n",
       "    }\n",
       "</style>\n",
       "<table border=\"1\" class=\"dataframe\">\n",
       "  <thead>\n",
       "    <tr style=\"text-align: right;\">\n",
       "      <th></th>\n",
       "      <th>banner_pos</th>\n",
       "      <th>site_id</th>\n",
       "      <th>site_domain</th>\n",
       "      <th>site_category</th>\n",
       "      <th>app_id</th>\n",
       "      <th>app_domain</th>\n",
       "      <th>app_category</th>\n",
       "      <th>device_ip</th>\n",
       "      <th>device_model</th>\n",
       "      <th>device_type</th>\n",
       "      <th>device_conn_type</th>\n",
       "      <th>dayofweek</th>\n",
       "      <th>day</th>\n",
       "      <th>hour</th>\n",
       "      <th>y</th>\n",
       "    </tr>\n",
       "  </thead>\n",
       "  <tbody>\n",
       "    <tr>\n",
       "      <th>0</th>\n",
       "      <td>1</td>\n",
       "      <td>856e6d3f</td>\n",
       "      <td>58a89a43</td>\n",
       "      <td>f028772b</td>\n",
       "      <td>ecad2386</td>\n",
       "      <td>7801e8d9</td>\n",
       "      <td>07d7df22</td>\n",
       "      <td>962c8333</td>\n",
       "      <td>be6db1d7</td>\n",
       "      <td>1</td>\n",
       "      <td>0</td>\n",
       "      <td>Tuesday</td>\n",
       "      <td>28</td>\n",
       "      <td>14</td>\n",
       "      <td>0</td>\n",
       "    </tr>\n",
       "    <tr>\n",
       "      <th>1</th>\n",
       "      <td>1</td>\n",
       "      <td>e151e245</td>\n",
       "      <td>7e091613</td>\n",
       "      <td>f028772b</td>\n",
       "      <td>ecad2386</td>\n",
       "      <td>7801e8d9</td>\n",
       "      <td>07d7df22</td>\n",
       "      <td>5b1f94b9</td>\n",
       "      <td>1b13b020</td>\n",
       "      <td>1</td>\n",
       "      <td>0</td>\n",
       "      <td>Wednesday</td>\n",
       "      <td>22</td>\n",
       "      <td>19</td>\n",
       "      <td>1</td>\n",
       "    </tr>\n",
       "    <tr>\n",
       "      <th>2</th>\n",
       "      <td>0</td>\n",
       "      <td>e3c09f3a</td>\n",
       "      <td>d262cf1e</td>\n",
       "      <td>28905ebd</td>\n",
       "      <td>ecad2386</td>\n",
       "      <td>7801e8d9</td>\n",
       "      <td>07d7df22</td>\n",
       "      <td>a9a84f4c</td>\n",
       "      <td>9a45a8e8</td>\n",
       "      <td>1</td>\n",
       "      <td>0</td>\n",
       "      <td>Thursday</td>\n",
       "      <td>23</td>\n",
       "      <td>18</td>\n",
       "      <td>0</td>\n",
       "    </tr>\n",
       "    <tr>\n",
       "      <th>3</th>\n",
       "      <td>0</td>\n",
       "      <td>0da94452</td>\n",
       "      <td>248e439f</td>\n",
       "      <td>50e219e0</td>\n",
       "      <td>ecad2386</td>\n",
       "      <td>7801e8d9</td>\n",
       "      <td>07d7df22</td>\n",
       "      <td>88c62dad</td>\n",
       "      <td>ea6abc60</td>\n",
       "      <td>0</td>\n",
       "      <td>0</td>\n",
       "      <td>Wednesday</td>\n",
       "      <td>22</td>\n",
       "      <td>19</td>\n",
       "      <td>0</td>\n",
       "    </tr>\n",
       "    <tr>\n",
       "      <th>4</th>\n",
       "      <td>0</td>\n",
       "      <td>1fbe01fe</td>\n",
       "      <td>f3845767</td>\n",
       "      <td>28905ebd</td>\n",
       "      <td>ecad2386</td>\n",
       "      <td>7801e8d9</td>\n",
       "      <td>07d7df22</td>\n",
       "      <td>1e5e0d0e</td>\n",
       "      <td>36d749e5</td>\n",
       "      <td>1</td>\n",
       "      <td>0</td>\n",
       "      <td>Tuesday</td>\n",
       "      <td>21</td>\n",
       "      <td>8</td>\n",
       "      <td>1</td>\n",
       "    </tr>\n",
       "  </tbody>\n",
       "</table>\n",
       "</div>"
      ],
      "text/plain": [
       "   banner_pos   site_id site_domain site_category    app_id app_domain  \\\n",
       "0           1  856e6d3f    58a89a43      f028772b  ecad2386   7801e8d9   \n",
       "1           1  e151e245    7e091613      f028772b  ecad2386   7801e8d9   \n",
       "2           0  e3c09f3a    d262cf1e      28905ebd  ecad2386   7801e8d9   \n",
       "3           0  0da94452    248e439f      50e219e0  ecad2386   7801e8d9   \n",
       "4           0  1fbe01fe    f3845767      28905ebd  ecad2386   7801e8d9   \n",
       "\n",
       "  app_category device_ip device_model  device_type  device_conn_type  \\\n",
       "0     07d7df22  962c8333     be6db1d7            1                 0   \n",
       "1     07d7df22  5b1f94b9     1b13b020            1                 0   \n",
       "2     07d7df22  a9a84f4c     9a45a8e8            1                 0   \n",
       "3     07d7df22  88c62dad     ea6abc60            0                 0   \n",
       "4     07d7df22  1e5e0d0e     36d749e5            1                 0   \n",
       "\n",
       "   dayofweek  day  hour  y  \n",
       "0    Tuesday   28    14  0  \n",
       "1  Wednesday   22    19  1  \n",
       "2   Thursday   23    18  0  \n",
       "3  Wednesday   22    19  0  \n",
       "4    Tuesday   21     8  1  "
      ]
     },
     "execution_count": 68,
     "metadata": {},
     "output_type": "execute_result"
    }
   ],
   "source": [
    "train_df.head()"
   ]
  },
  {
   "cell_type": "markdown",
   "metadata": {},
   "source": [
    "## Converting categorical values to numeric values by hash method"
   ]
  },
  {
   "cell_type": "markdown",
   "metadata": {},
   "source": [
    "### we could also use OneHotEncoder to do so which would do same thing but would have many number of columns. Hash Encoding represents the categorical data into numerical value by the hashing function."
   ]
  },
  {
   "cell_type": "code",
   "execution_count": 69,
   "metadata": {},
   "outputs": [
    {
     "data": {
      "text/plain": [
       "banner_pos           int64\n",
       "site_id             object\n",
       "site_domain         object\n",
       "site_category       object\n",
       "app_id              object\n",
       "app_domain          object\n",
       "app_category        object\n",
       "device_ip           object\n",
       "device_model        object\n",
       "device_type          int64\n",
       "device_conn_type     int64\n",
       "dayofweek           object\n",
       "day                  int64\n",
       "hour                 int64\n",
       "y                    int64\n",
       "dtype: object"
      ]
     },
     "execution_count": 69,
     "metadata": {},
     "output_type": "execute_result"
    }
   ],
   "source": [
    "train_df.dtypes"
   ]
  },
  {
   "cell_type": "markdown",
   "metadata": {},
   "source": [
    "### Note: \n",
    "There are few columns with data type as object(Categorical data)"
   ]
  },
  {
   "cell_type": "code",
   "execution_count": 70,
   "metadata": {},
   "outputs": [],
   "source": [
    "def convert_obj_to_int(self):\n",
    "    \n",
    "    object_list_columns = self.columns\n",
    "    object_list_dtypes = self.dtypes\n",
    "    new_col_suffix = '_int'\n",
    "    for index in range(0,len(object_list_columns)):\n",
    "        if object_list_dtypes[index] == object :\n",
    "            self[object_list_columns[index]+new_col_suffix] = self[object_list_columns[index]].map( lambda  x: hash(x))\n",
    "            self.drop([object_list_columns[index]],inplace=True,axis=1)\n",
    "    return self\n",
    "train_df = convert_obj_to_int(train_df)"
   ]
  },
  {
   "cell_type": "markdown",
   "metadata": {},
   "source": [
    "def obj_to_int(df):\n",
    "    for idx in df.dtypes[df.dtypes == 'object'].index:\n",
    "        df[idx + '_hash_int'] = df[idx].apply(lambda x: hash(x))\n",
    "    return df"
   ]
  },
  {
   "cell_type": "code",
   "execution_count": null,
   "metadata": {},
   "outputs": [],
   "source": []
  },
  {
   "cell_type": "code",
   "execution_count": 71,
   "metadata": {},
   "outputs": [
    {
     "data": {
      "text/plain": [
       "banner_pos           int64\n",
       "device_type          int64\n",
       "device_conn_type     int64\n",
       "day                  int64\n",
       "hour                 int64\n",
       "y                    int64\n",
       "site_id_int          int64\n",
       "site_domain_int      int64\n",
       "site_category_int    int64\n",
       "app_id_int           int64\n",
       "app_domain_int       int64\n",
       "app_category_int     int64\n",
       "device_ip_int        int64\n",
       "device_model_int     int64\n",
       "dayofweek_int        int64\n",
       "dtype: object"
      ]
     },
     "execution_count": 71,
     "metadata": {},
     "output_type": "execute_result"
    }
   ],
   "source": [
    "train_df.dtypes"
   ]
  },
  {
   "cell_type": "markdown",
   "metadata": {},
   "source": [
    "### Note: \n",
    "After hashing, all columns are with data type as int."
   ]
  },
  {
   "cell_type": "code",
   "execution_count": 72,
   "metadata": {},
   "outputs": [
    {
     "data": {
      "text/html": [
       "<div>\n",
       "<style scoped>\n",
       "    .dataframe tbody tr th:only-of-type {\n",
       "        vertical-align: middle;\n",
       "    }\n",
       "\n",
       "    .dataframe tbody tr th {\n",
       "        vertical-align: top;\n",
       "    }\n",
       "\n",
       "    .dataframe thead th {\n",
       "        text-align: right;\n",
       "    }\n",
       "</style>\n",
       "<table border=\"1\" class=\"dataframe\">\n",
       "  <thead>\n",
       "    <tr style=\"text-align: right;\">\n",
       "      <th></th>\n",
       "      <th>banner_pos</th>\n",
       "      <th>device_type</th>\n",
       "      <th>device_conn_type</th>\n",
       "      <th>day</th>\n",
       "      <th>hour</th>\n",
       "      <th>y</th>\n",
       "      <th>site_id_int</th>\n",
       "      <th>site_domain_int</th>\n",
       "      <th>site_category_int</th>\n",
       "      <th>app_id_int</th>\n",
       "      <th>app_domain_int</th>\n",
       "      <th>app_category_int</th>\n",
       "      <th>device_ip_int</th>\n",
       "      <th>device_model_int</th>\n",
       "      <th>dayofweek_int</th>\n",
       "    </tr>\n",
       "  </thead>\n",
       "  <tbody>\n",
       "    <tr>\n",
       "      <th>0</th>\n",
       "      <td>1</td>\n",
       "      <td>1</td>\n",
       "      <td>0</td>\n",
       "      <td>28</td>\n",
       "      <td>14</td>\n",
       "      <td>0</td>\n",
       "      <td>2619527999813928093</td>\n",
       "      <td>-6823785354676192738</td>\n",
       "      <td>5611867855868455903</td>\n",
       "      <td>8139378156239028656</td>\n",
       "      <td>-7515248522337672251</td>\n",
       "      <td>3777528870457064742</td>\n",
       "      <td>-1439936829841197480</td>\n",
       "      <td>9098255952517575235</td>\n",
       "      <td>2183046276731593275</td>\n",
       "    </tr>\n",
       "    <tr>\n",
       "      <th>1</th>\n",
       "      <td>1</td>\n",
       "      <td>1</td>\n",
       "      <td>0</td>\n",
       "      <td>22</td>\n",
       "      <td>19</td>\n",
       "      <td>1</td>\n",
       "      <td>1840559871844662431</td>\n",
       "      <td>-6655771474351019115</td>\n",
       "      <td>5611867855868455903</td>\n",
       "      <td>8139378156239028656</td>\n",
       "      <td>-7515248522337672251</td>\n",
       "      <td>3777528870457064742</td>\n",
       "      <td>-185267026514907713</td>\n",
       "      <td>-1887270802089943555</td>\n",
       "      <td>-4091456623387298925</td>\n",
       "    </tr>\n",
       "    <tr>\n",
       "      <th>2</th>\n",
       "      <td>0</td>\n",
       "      <td>1</td>\n",
       "      <td>0</td>\n",
       "      <td>23</td>\n",
       "      <td>18</td>\n",
       "      <td>0</td>\n",
       "      <td>5783807495941523120</td>\n",
       "      <td>-5812929943404039134</td>\n",
       "      <td>-1836106437348684998</td>\n",
       "      <td>8139378156239028656</td>\n",
       "      <td>-7515248522337672251</td>\n",
       "      <td>3777528870457064742</td>\n",
       "      <td>7440341934457276634</td>\n",
       "      <td>6937162384941968432</td>\n",
       "      <td>-1248048490761826327</td>\n",
       "    </tr>\n",
       "    <tr>\n",
       "      <th>3</th>\n",
       "      <td>0</td>\n",
       "      <td>0</td>\n",
       "      <td>0</td>\n",
       "      <td>22</td>\n",
       "      <td>19</td>\n",
       "      <td>0</td>\n",
       "      <td>-85752641054560734</td>\n",
       "      <td>-6217850590316238978</td>\n",
       "      <td>-6748697855626919340</td>\n",
       "      <td>8139378156239028656</td>\n",
       "      <td>-7515248522337672251</td>\n",
       "      <td>3777528870457064742</td>\n",
       "      <td>-1547027886748879440</td>\n",
       "      <td>-4038434883883941376</td>\n",
       "      <td>-4091456623387298925</td>\n",
       "    </tr>\n",
       "    <tr>\n",
       "      <th>4</th>\n",
       "      <td>0</td>\n",
       "      <td>1</td>\n",
       "      <td>0</td>\n",
       "      <td>21</td>\n",
       "      <td>8</td>\n",
       "      <td>1</td>\n",
       "      <td>5150092568097133194</td>\n",
       "      <td>-841052093995963504</td>\n",
       "      <td>-1836106437348684998</td>\n",
       "      <td>8139378156239028656</td>\n",
       "      <td>-7515248522337672251</td>\n",
       "      <td>3777528870457064742</td>\n",
       "      <td>6111643007705008672</td>\n",
       "      <td>9197675691152144059</td>\n",
       "      <td>2183046276731593275</td>\n",
       "    </tr>\n",
       "  </tbody>\n",
       "</table>\n",
       "</div>"
      ],
      "text/plain": [
       "   banner_pos  device_type  device_conn_type  day  hour  y  \\\n",
       "0           1            1                 0   28    14  0   \n",
       "1           1            1                 0   22    19  1   \n",
       "2           0            1                 0   23    18  0   \n",
       "3           0            0                 0   22    19  0   \n",
       "4           0            1                 0   21     8  1   \n",
       "\n",
       "           site_id_int      site_domain_int    site_category_int  \\\n",
       "0  2619527999813928093 -6823785354676192738  5611867855868455903   \n",
       "1  1840559871844662431 -6655771474351019115  5611867855868455903   \n",
       "2  5783807495941523120 -5812929943404039134 -1836106437348684998   \n",
       "3   -85752641054560734 -6217850590316238978 -6748697855626919340   \n",
       "4  5150092568097133194  -841052093995963504 -1836106437348684998   \n",
       "\n",
       "            app_id_int       app_domain_int     app_category_int  \\\n",
       "0  8139378156239028656 -7515248522337672251  3777528870457064742   \n",
       "1  8139378156239028656 -7515248522337672251  3777528870457064742   \n",
       "2  8139378156239028656 -7515248522337672251  3777528870457064742   \n",
       "3  8139378156239028656 -7515248522337672251  3777528870457064742   \n",
       "4  8139378156239028656 -7515248522337672251  3777528870457064742   \n",
       "\n",
       "         device_ip_int     device_model_int        dayofweek_int  \n",
       "0 -1439936829841197480  9098255952517575235  2183046276731593275  \n",
       "1  -185267026514907713 -1887270802089943555 -4091456623387298925  \n",
       "2  7440341934457276634  6937162384941968432 -1248048490761826327  \n",
       "3 -1547027886748879440 -4038434883883941376 -4091456623387298925  \n",
       "4  6111643007705008672  9197675691152144059  2183046276731593275  "
      ]
     },
     "execution_count": 72,
     "metadata": {},
     "output_type": "execute_result"
    }
   ],
   "source": [
    "train_df.head()"
   ]
  },
  {
   "cell_type": "markdown",
   "metadata": {},
   "source": [
    "### Remove Y column as this is a target variable not an input variable"
   ]
  },
  {
   "cell_type": "code",
   "execution_count": 73,
   "metadata": {},
   "outputs": [],
   "source": [
    "input_cols = train_df.select_dtypes(include=np.number).columns.to_list()"
   ]
  },
  {
   "cell_type": "code",
   "execution_count": 74,
   "metadata": {},
   "outputs": [],
   "source": [
    "# removing y from inputs\n",
    "input_cols.remove('y')"
   ]
  },
  {
   "cell_type": "code",
   "execution_count": 75,
   "metadata": {},
   "outputs": [],
   "source": [
    "train_inputs = train_df[input_cols]"
   ]
  },
  {
   "cell_type": "markdown",
   "metadata": {},
   "source": [
    "#### create validation and train set \n",
    "#### use logistic regression, XGBBOOST, LGb, SVM, Decissiontree on this dataset to predict whether a user will click the ad or not "
   ]
  },
  {
   "cell_type": "code",
   "execution_count": 76,
   "metadata": {},
   "outputs": [],
   "source": [
    "from sklearn.model_selection import train_test_split"
   ]
  },
  {
   "cell_type": "code",
   "execution_count": 77,
   "metadata": {},
   "outputs": [
    {
     "name": "stdout",
     "output_type": "stream",
     "text": [
      "(79999, 14)\n",
      "(79999,)\n",
      "(10000, 14)\n",
      "(10000,)\n",
      "(10000, 14)\n",
      "(10000,)\n"
     ]
    },
    {
     "data": {
      "text/plain": [
       "(None, None)"
      ]
     },
     "execution_count": 77,
     "metadata": {},
     "output_type": "execute_result"
    }
   ],
   "source": [
    "# Let's say we want to split the data in 80:10:10 for train:valid:test dataset\n",
    "train_size=0.8\n",
    "\n",
    "X = train_df.drop(columns = ['y']).copy()\n",
    "y = train_df['y']\n",
    "\n",
    "# In the first step we will split the data in training and remaining dataset\n",
    "X_train, X_rem, y_train, y_rem = train_test_split(X,y, train_size=0.8)\n",
    "\n",
    "# Now since we want the valid and test size to be equal (10% each of overall data). \n",
    "# we have to define valid_size=0.5 (that is 50% of remaining data)\n",
    "test_size = 0.5\n",
    "X_valid, X_test, y_valid, y_test = train_test_split(X_rem,y_rem, test_size=0.5)\n",
    "\n",
    "print(X_train.shape), print(y_train.shape)\n",
    "print(X_valid.shape), print(y_valid.shape)\n",
    "print(X_test.shape), print(y_test.shape)"
   ]
  },
  {
   "cell_type": "markdown",
   "metadata": {},
   "source": [
    "# Scaling the data"
   ]
  },
  {
   "cell_type": "markdown",
   "metadata": {},
   "source": [
    "#### We will be usTransform features by scaling each feature to a given range.\n",
    "\n",
    "This estimator scales and translates each feature individually such that it is in the given range on the training set, e.g. between zero and one.\n",
    "\n",
    "\n"
   ]
  },
  {
   "cell_type": "code",
   "execution_count": 78,
   "metadata": {},
   "outputs": [],
   "source": [
    "from sklearn.preprocessing import MinMaxScaler"
   ]
  },
  {
   "cell_type": "code",
   "execution_count": 79,
   "metadata": {},
   "outputs": [
    {
     "data": {
      "text/html": [
       "<div>\n",
       "<style scoped>\n",
       "    .dataframe tbody tr th:only-of-type {\n",
       "        vertical-align: middle;\n",
       "    }\n",
       "\n",
       "    .dataframe tbody tr th {\n",
       "        vertical-align: top;\n",
       "    }\n",
       "\n",
       "    .dataframe thead th {\n",
       "        text-align: right;\n",
       "    }\n",
       "</style>\n",
       "<table border=\"1\" class=\"dataframe\">\n",
       "  <thead>\n",
       "    <tr style=\"text-align: right;\">\n",
       "      <th></th>\n",
       "      <th>banner_pos</th>\n",
       "      <th>device_type</th>\n",
       "      <th>device_conn_type</th>\n",
       "      <th>day</th>\n",
       "      <th>hour</th>\n",
       "      <th>site_id_int</th>\n",
       "      <th>site_domain_int</th>\n",
       "      <th>site_category_int</th>\n",
       "      <th>app_id_int</th>\n",
       "      <th>app_domain_int</th>\n",
       "      <th>app_category_int</th>\n",
       "      <th>device_ip_int</th>\n",
       "      <th>device_model_int</th>\n",
       "      <th>dayofweek_int</th>\n",
       "    </tr>\n",
       "  </thead>\n",
       "  <tbody>\n",
       "    <tr>\n",
       "      <th>count</th>\n",
       "      <td>79999.000000</td>\n",
       "      <td>79999.000000</td>\n",
       "      <td>79999.000000</td>\n",
       "      <td>79999.000000</td>\n",
       "      <td>79999.000000</td>\n",
       "      <td>7.999900e+04</td>\n",
       "      <td>7.999900e+04</td>\n",
       "      <td>7.999900e+04</td>\n",
       "      <td>7.999900e+04</td>\n",
       "      <td>7.999900e+04</td>\n",
       "      <td>7.999900e+04</td>\n",
       "      <td>7.999900e+04</td>\n",
       "      <td>7.999900e+04</td>\n",
       "      <td>7.999900e+04</td>\n",
       "    </tr>\n",
       "    <tr>\n",
       "      <th>mean</th>\n",
       "      <td>0.290629</td>\n",
       "      <td>1.016038</td>\n",
       "      <td>0.327604</td>\n",
       "      <td>25.477693</td>\n",
       "      <td>11.279703</td>\n",
       "      <td>3.590324e+18</td>\n",
       "      <td>-1.316632e+18</td>\n",
       "      <td>-1.466539e+18</td>\n",
       "      <td>5.034702e+18</td>\n",
       "      <td>-6.211649e+18</td>\n",
       "      <td>1.669232e+18</td>\n",
       "      <td>-4.968280e+16</td>\n",
       "      <td>4.505629e+17</td>\n",
       "      <td>6.656286e+17</td>\n",
       "    </tr>\n",
       "    <tr>\n",
       "      <th>std</th>\n",
       "      <td>0.508520</td>\n",
       "      <td>0.529398</td>\n",
       "      <td>0.852772</td>\n",
       "      <td>2.970395</td>\n",
       "      <td>5.937866</td>\n",
       "      <td>3.807500e+18</td>\n",
       "      <td>3.784301e+18</td>\n",
       "      <td>5.252967e+18</td>\n",
       "      <td>5.063005e+18</td>\n",
       "      <td>3.784782e+18</td>\n",
       "      <td>3.706034e+18</td>\n",
       "      <td>5.304759e+18</td>\n",
       "      <td>5.628740e+18</td>\n",
       "      <td>4.019157e+18</td>\n",
       "    </tr>\n",
       "    <tr>\n",
       "      <th>min</th>\n",
       "      <td>0.000000</td>\n",
       "      <td>0.000000</td>\n",
       "      <td>0.000000</td>\n",
       "      <td>21.000000</td>\n",
       "      <td>0.000000</td>\n",
       "      <td>-9.223311e+18</td>\n",
       "      <td>-9.202238e+18</td>\n",
       "      <td>-8.169551e+18</td>\n",
       "      <td>-9.220000e+18</td>\n",
       "      <td>-9.062637e+18</td>\n",
       "      <td>-8.843093e+18</td>\n",
       "      <td>-9.222238e+18</td>\n",
       "      <td>-9.222313e+18</td>\n",
       "      <td>-4.091457e+18</td>\n",
       "    </tr>\n",
       "    <tr>\n",
       "      <th>25%</th>\n",
       "      <td>0.000000</td>\n",
       "      <td>1.000000</td>\n",
       "      <td>0.000000</td>\n",
       "      <td>23.000000</td>\n",
       "      <td>7.000000</td>\n",
       "      <td>1.840560e+18</td>\n",
       "      <td>-3.614328e+18</td>\n",
       "      <td>-6.748698e+18</td>\n",
       "      <td>3.048870e+18</td>\n",
       "      <td>-7.515249e+18</td>\n",
       "      <td>3.748347e+17</td>\n",
       "      <td>-4.605811e+18</td>\n",
       "      <td>-4.519782e+18</td>\n",
       "      <td>-1.252844e+18</td>\n",
       "    </tr>\n",
       "  </tbody>\n",
       "</table>\n",
       "</div>"
      ],
      "text/plain": [
       "         banner_pos   device_type  device_conn_type           day  \\\n",
       "count  79999.000000  79999.000000      79999.000000  79999.000000   \n",
       "mean       0.290629      1.016038          0.327604     25.477693   \n",
       "std        0.508520      0.529398          0.852772      2.970395   \n",
       "min        0.000000      0.000000          0.000000     21.000000   \n",
       "25%        0.000000      1.000000          0.000000     23.000000   \n",
       "\n",
       "               hour   site_id_int  site_domain_int  site_category_int  \\\n",
       "count  79999.000000  7.999900e+04     7.999900e+04       7.999900e+04   \n",
       "mean      11.279703  3.590324e+18    -1.316632e+18      -1.466539e+18   \n",
       "std        5.937866  3.807500e+18     3.784301e+18       5.252967e+18   \n",
       "min        0.000000 -9.223311e+18    -9.202238e+18      -8.169551e+18   \n",
       "25%        7.000000  1.840560e+18    -3.614328e+18      -6.748698e+18   \n",
       "\n",
       "         app_id_int  app_domain_int  app_category_int  device_ip_int  \\\n",
       "count  7.999900e+04    7.999900e+04      7.999900e+04   7.999900e+04   \n",
       "mean   5.034702e+18   -6.211649e+18      1.669232e+18  -4.968280e+16   \n",
       "std    5.063005e+18    3.784782e+18      3.706034e+18   5.304759e+18   \n",
       "min   -9.220000e+18   -9.062637e+18     -8.843093e+18  -9.222238e+18   \n",
       "25%    3.048870e+18   -7.515249e+18      3.748347e+17  -4.605811e+18   \n",
       "\n",
       "       device_model_int  dayofweek_int  \n",
       "count      7.999900e+04   7.999900e+04  \n",
       "mean       4.505629e+17   6.656286e+17  \n",
       "std        5.628740e+18   4.019157e+18  \n",
       "min       -9.222313e+18  -4.091457e+18  \n",
       "25%       -4.519782e+18  -1.252844e+18  "
      ]
     },
     "execution_count": 79,
     "metadata": {},
     "output_type": "execute_result"
    }
   ],
   "source": [
    "X_train.describe().head()"
   ]
  },
  {
   "cell_type": "code",
   "execution_count": 80,
   "metadata": {},
   "outputs": [
    {
     "data": {
      "text/plain": [
       "banner_pos           int64\n",
       "device_type          int64\n",
       "device_conn_type     int64\n",
       "day                  int64\n",
       "hour                 int64\n",
       "site_id_int          int64\n",
       "site_domain_int      int64\n",
       "site_category_int    int64\n",
       "app_id_int           int64\n",
       "app_domain_int       int64\n",
       "app_category_int     int64\n",
       "device_ip_int        int64\n",
       "device_model_int     int64\n",
       "dayofweek_int        int64\n",
       "dtype: object"
      ]
     },
     "execution_count": 80,
     "metadata": {},
     "output_type": "execute_result"
    }
   ],
   "source": [
    "X_train.dtypes"
   ]
  },
  {
   "cell_type": "code",
   "execution_count": 81,
   "metadata": {},
   "outputs": [],
   "source": [
    "scaler_train = MinMaxScaler()\n"
   ]
  },
  {
   "cell_type": "code",
   "execution_count": 82,
   "metadata": {},
   "outputs": [
    {
     "data": {
      "text/plain": [
       "MinMaxScaler()"
      ]
     },
     "execution_count": 82,
     "metadata": {},
     "output_type": "execute_result"
    }
   ],
   "source": [
    "scaler_train.fit(X_train)\n"
   ]
  },
  {
   "cell_type": "code",
   "execution_count": 83,
   "metadata": {},
   "outputs": [],
   "source": [
    "X_train[input_cols] = scaler_train.transform(X_train[input_cols])\n",
    "X_valid[input_cols] = scaler_train.transform(X_valid[input_cols])"
   ]
  },
  {
   "cell_type": "code",
   "execution_count": 84,
   "metadata": {},
   "outputs": [
    {
     "data": {
      "text/html": [
       "<div>\n",
       "<style scoped>\n",
       "    .dataframe tbody tr th:only-of-type {\n",
       "        vertical-align: middle;\n",
       "    }\n",
       "\n",
       "    .dataframe tbody tr th {\n",
       "        vertical-align: top;\n",
       "    }\n",
       "\n",
       "    .dataframe thead th {\n",
       "        text-align: right;\n",
       "    }\n",
       "</style>\n",
       "<table border=\"1\" class=\"dataframe\">\n",
       "  <thead>\n",
       "    <tr style=\"text-align: right;\">\n",
       "      <th></th>\n",
       "      <th>banner_pos</th>\n",
       "      <th>device_type</th>\n",
       "      <th>device_conn_type</th>\n",
       "      <th>day</th>\n",
       "      <th>hour</th>\n",
       "      <th>site_id_int</th>\n",
       "      <th>site_domain_int</th>\n",
       "      <th>site_category_int</th>\n",
       "      <th>app_id_int</th>\n",
       "      <th>app_domain_int</th>\n",
       "      <th>app_category_int</th>\n",
       "      <th>device_ip_int</th>\n",
       "      <th>device_model_int</th>\n",
       "      <th>dayofweek_int</th>\n",
       "    </tr>\n",
       "  </thead>\n",
       "  <tbody>\n",
       "    <tr>\n",
       "      <th>count</th>\n",
       "      <td>79999.000000</td>\n",
       "      <td>79999.000000</td>\n",
       "      <td>79999.000000</td>\n",
       "      <td>79999.000000</td>\n",
       "      <td>79999.000000</td>\n",
       "      <td>79999.000000</td>\n",
       "      <td>79999.000000</td>\n",
       "      <td>79999.000000</td>\n",
       "      <td>79999.000000</td>\n",
       "      <td>79999.000000</td>\n",
       "      <td>79999.000000</td>\n",
       "      <td>79999.000000</td>\n",
       "      <td>79999.000000</td>\n",
       "      <td>79999.000000</td>\n",
       "    </tr>\n",
       "    <tr>\n",
       "      <th>mean</th>\n",
       "      <td>0.041518</td>\n",
       "      <td>0.203208</td>\n",
       "      <td>0.065521</td>\n",
       "      <td>0.497521</td>\n",
       "      <td>0.490422</td>\n",
       "      <td>0.695101</td>\n",
       "      <td>0.429126</td>\n",
       "      <td>0.396247</td>\n",
       "      <td>0.772982</td>\n",
       "      <td>0.157684</td>\n",
       "      <td>0.601223</td>\n",
       "      <td>0.497279</td>\n",
       "      <td>0.524483</td>\n",
       "      <td>0.386155</td>\n",
       "    </tr>\n",
       "    <tr>\n",
       "      <th>std</th>\n",
       "      <td>0.072646</td>\n",
       "      <td>0.105880</td>\n",
       "      <td>0.170554</td>\n",
       "      <td>0.330044</td>\n",
       "      <td>0.258168</td>\n",
       "      <td>0.206545</td>\n",
       "      <td>0.205937</td>\n",
       "      <td>0.310528</td>\n",
       "      <td>0.274549</td>\n",
       "      <td>0.209330</td>\n",
       "      <td>0.211956</td>\n",
       "      <td>0.287591</td>\n",
       "      <td>0.305202</td>\n",
       "      <td>0.326254</td>\n",
       "    </tr>\n",
       "    <tr>\n",
       "      <th>min</th>\n",
       "      <td>0.000000</td>\n",
       "      <td>0.000000</td>\n",
       "      <td>0.000000</td>\n",
       "      <td>0.000000</td>\n",
       "      <td>0.000000</td>\n",
       "      <td>0.000000</td>\n",
       "      <td>0.000000</td>\n",
       "      <td>0.000000</td>\n",
       "      <td>0.000000</td>\n",
       "      <td>0.000000</td>\n",
       "      <td>0.000000</td>\n",
       "      <td>0.000000</td>\n",
       "      <td>0.000000</td>\n",
       "      <td>0.000000</td>\n",
       "    </tr>\n",
       "    <tr>\n",
       "      <th>25%</th>\n",
       "      <td>0.000000</td>\n",
       "      <td>0.200000</td>\n",
       "      <td>0.000000</td>\n",
       "      <td>0.222222</td>\n",
       "      <td>0.304348</td>\n",
       "      <td>0.600182</td>\n",
       "      <td>0.304088</td>\n",
       "      <td>0.083993</td>\n",
       "      <td>0.665297</td>\n",
       "      <td>0.085584</td>\n",
       "      <td>0.527194</td>\n",
       "      <td>0.250274</td>\n",
       "      <td>0.254981</td>\n",
       "      <td>0.230424</td>\n",
       "    </tr>\n",
       "    <tr>\n",
       "      <th>50%</th>\n",
       "      <td>0.000000</td>\n",
       "      <td>0.200000</td>\n",
       "      <td>0.000000</td>\n",
       "      <td>0.555556</td>\n",
       "      <td>0.478261</td>\n",
       "      <td>0.779714</td>\n",
       "      <td>0.507436</td>\n",
       "      <td>0.374400</td>\n",
       "      <td>0.941338</td>\n",
       "      <td>0.085584</td>\n",
       "      <td>0.721801</td>\n",
       "      <td>0.493010</td>\n",
       "      <td>0.554229</td>\n",
       "      <td>0.230813</td>\n",
       "    </tr>\n",
       "    <tr>\n",
       "      <th>75%</th>\n",
       "      <td>0.142857</td>\n",
       "      <td>0.200000</td>\n",
       "      <td>0.000000</td>\n",
       "      <td>0.777778</td>\n",
       "      <td>0.695652</td>\n",
       "      <td>0.797679</td>\n",
       "      <td>0.507436</td>\n",
       "      <td>0.814685</td>\n",
       "      <td>0.941338</td>\n",
       "      <td>0.085584</td>\n",
       "      <td>0.721801</td>\n",
       "      <td>0.746810</td>\n",
       "      <td>0.815748</td>\n",
       "      <td>0.509331</td>\n",
       "    </tr>\n",
       "    <tr>\n",
       "      <th>max</th>\n",
       "      <td>1.000000</td>\n",
       "      <td>1.000000</td>\n",
       "      <td>1.000000</td>\n",
       "      <td>1.000000</td>\n",
       "      <td>1.000000</td>\n",
       "      <td>1.000000</td>\n",
       "      <td>1.000000</td>\n",
       "      <td>1.000000</td>\n",
       "      <td>1.000000</td>\n",
       "      <td>1.000000</td>\n",
       "      <td>1.000000</td>\n",
       "      <td>1.000000</td>\n",
       "      <td>1.000000</td>\n",
       "      <td>1.000000</td>\n",
       "    </tr>\n",
       "  </tbody>\n",
       "</table>\n",
       "</div>"
      ],
      "text/plain": [
       "         banner_pos   device_type  device_conn_type           day  \\\n",
       "count  79999.000000  79999.000000      79999.000000  79999.000000   \n",
       "mean       0.041518      0.203208          0.065521      0.497521   \n",
       "std        0.072646      0.105880          0.170554      0.330044   \n",
       "min        0.000000      0.000000          0.000000      0.000000   \n",
       "25%        0.000000      0.200000          0.000000      0.222222   \n",
       "50%        0.000000      0.200000          0.000000      0.555556   \n",
       "75%        0.142857      0.200000          0.000000      0.777778   \n",
       "max        1.000000      1.000000          1.000000      1.000000   \n",
       "\n",
       "               hour   site_id_int  site_domain_int  site_category_int  \\\n",
       "count  79999.000000  79999.000000     79999.000000       79999.000000   \n",
       "mean       0.490422      0.695101         0.429126           0.396247   \n",
       "std        0.258168      0.206545         0.205937           0.310528   \n",
       "min        0.000000      0.000000         0.000000           0.000000   \n",
       "25%        0.304348      0.600182         0.304088           0.083993   \n",
       "50%        0.478261      0.779714         0.507436           0.374400   \n",
       "75%        0.695652      0.797679         0.507436           0.814685   \n",
       "max        1.000000      1.000000         1.000000           1.000000   \n",
       "\n",
       "         app_id_int  app_domain_int  app_category_int  device_ip_int  \\\n",
       "count  79999.000000    79999.000000      79999.000000   79999.000000   \n",
       "mean       0.772982        0.157684          0.601223       0.497279   \n",
       "std        0.274549        0.209330          0.211956       0.287591   \n",
       "min        0.000000        0.000000          0.000000       0.000000   \n",
       "25%        0.665297        0.085584          0.527194       0.250274   \n",
       "50%        0.941338        0.085584          0.721801       0.493010   \n",
       "75%        0.941338        0.085584          0.721801       0.746810   \n",
       "max        1.000000        1.000000          1.000000       1.000000   \n",
       "\n",
       "       device_model_int  dayofweek_int  \n",
       "count      79999.000000   79999.000000  \n",
       "mean           0.524483       0.386155  \n",
       "std            0.305202       0.326254  \n",
       "min            0.000000       0.000000  \n",
       "25%            0.254981       0.230424  \n",
       "50%            0.554229       0.230813  \n",
       "75%            0.815748       0.509331  \n",
       "max            1.000000       1.000000  "
      ]
     },
     "execution_count": 84,
     "metadata": {},
     "output_type": "execute_result"
    }
   ],
   "source": [
    "X_train.describe()\n"
   ]
  },
  {
   "cell_type": "code",
   "execution_count": 85,
   "metadata": {},
   "outputs": [
    {
     "data": {
      "text/html": [
       "<div>\n",
       "<style scoped>\n",
       "    .dataframe tbody tr th:only-of-type {\n",
       "        vertical-align: middle;\n",
       "    }\n",
       "\n",
       "    .dataframe tbody tr th {\n",
       "        vertical-align: top;\n",
       "    }\n",
       "\n",
       "    .dataframe thead th {\n",
       "        text-align: right;\n",
       "    }\n",
       "</style>\n",
       "<table border=\"1\" class=\"dataframe\">\n",
       "  <thead>\n",
       "    <tr style=\"text-align: right;\">\n",
       "      <th></th>\n",
       "      <th>banner_pos</th>\n",
       "      <th>device_type</th>\n",
       "      <th>device_conn_type</th>\n",
       "      <th>day</th>\n",
       "      <th>hour</th>\n",
       "      <th>site_id_int</th>\n",
       "      <th>site_domain_int</th>\n",
       "      <th>site_category_int</th>\n",
       "      <th>app_id_int</th>\n",
       "      <th>app_domain_int</th>\n",
       "      <th>app_category_int</th>\n",
       "      <th>device_ip_int</th>\n",
       "      <th>device_model_int</th>\n",
       "      <th>dayofweek_int</th>\n",
       "    </tr>\n",
       "  </thead>\n",
       "  <tbody>\n",
       "    <tr>\n",
       "      <th>count</th>\n",
       "      <td>10000.000000</td>\n",
       "      <td>10000.000000</td>\n",
       "      <td>10000.000000</td>\n",
       "      <td>10000.000000</td>\n",
       "      <td>10000.000000</td>\n",
       "      <td>10000.000000</td>\n",
       "      <td>10000.000000</td>\n",
       "      <td>10000.000000</td>\n",
       "      <td>10000.000000</td>\n",
       "      <td>10000.000000</td>\n",
       "      <td>10000.000000</td>\n",
       "      <td>10000.000000</td>\n",
       "      <td>10000.000000</td>\n",
       "      <td>10000.000000</td>\n",
       "    </tr>\n",
       "    <tr>\n",
       "      <th>mean</th>\n",
       "      <td>0.041000</td>\n",
       "      <td>0.204800</td>\n",
       "      <td>0.067280</td>\n",
       "      <td>0.498844</td>\n",
       "      <td>0.493565</td>\n",
       "      <td>0.696599</td>\n",
       "      <td>0.430037</td>\n",
       "      <td>0.389643</td>\n",
       "      <td>0.771012</td>\n",
       "      <td>0.159385</td>\n",
       "      <td>0.595267</td>\n",
       "      <td>0.499175</td>\n",
       "      <td>0.520406</td>\n",
       "      <td>0.387770</td>\n",
       "    </tr>\n",
       "    <tr>\n",
       "      <th>std</th>\n",
       "      <td>0.070719</td>\n",
       "      <td>0.111257</td>\n",
       "      <td>0.172361</td>\n",
       "      <td>0.329237</td>\n",
       "      <td>0.260132</td>\n",
       "      <td>0.204221</td>\n",
       "      <td>0.203570</td>\n",
       "      <td>0.310114</td>\n",
       "      <td>0.274006</td>\n",
       "      <td>0.212846</td>\n",
       "      <td>0.218124</td>\n",
       "      <td>0.288587</td>\n",
       "      <td>0.304820</td>\n",
       "      <td>0.326927</td>\n",
       "    </tr>\n",
       "    <tr>\n",
       "      <th>min</th>\n",
       "      <td>0.000000</td>\n",
       "      <td>0.000000</td>\n",
       "      <td>0.000000</td>\n",
       "      <td>0.000000</td>\n",
       "      <td>0.000000</td>\n",
       "      <td>0.007292</td>\n",
       "      <td>0.000381</td>\n",
       "      <td>0.000000</td>\n",
       "      <td>0.004032</td>\n",
       "      <td>0.000000</td>\n",
       "      <td>0.000000</td>\n",
       "      <td>0.000110</td>\n",
       "      <td>0.000000</td>\n",
       "      <td>0.000000</td>\n",
       "    </tr>\n",
       "    <tr>\n",
       "      <th>25%</th>\n",
       "      <td>0.000000</td>\n",
       "      <td>0.200000</td>\n",
       "      <td>0.000000</td>\n",
       "      <td>0.222222</td>\n",
       "      <td>0.304348</td>\n",
       "      <td>0.600182</td>\n",
       "      <td>0.321997</td>\n",
       "      <td>0.083993</td>\n",
       "      <td>0.665297</td>\n",
       "      <td>0.085584</td>\n",
       "      <td>0.527194</td>\n",
       "      <td>0.250061</td>\n",
       "      <td>0.254981</td>\n",
       "      <td>0.230424</td>\n",
       "    </tr>\n",
       "    <tr>\n",
       "      <th>50%</th>\n",
       "      <td>0.000000</td>\n",
       "      <td>0.200000</td>\n",
       "      <td>0.000000</td>\n",
       "      <td>0.555556</td>\n",
       "      <td>0.521739</td>\n",
       "      <td>0.779714</td>\n",
       "      <td>0.507436</td>\n",
       "      <td>0.374400</td>\n",
       "      <td>0.941338</td>\n",
       "      <td>0.085584</td>\n",
       "      <td>0.721801</td>\n",
       "      <td>0.499076</td>\n",
       "      <td>0.549141</td>\n",
       "      <td>0.230813</td>\n",
       "    </tr>\n",
       "    <tr>\n",
       "      <th>75%</th>\n",
       "      <td>0.142857</td>\n",
       "      <td>0.200000</td>\n",
       "      <td>0.000000</td>\n",
       "      <td>0.777778</td>\n",
       "      <td>0.695652</td>\n",
       "      <td>0.797679</td>\n",
       "      <td>0.507436</td>\n",
       "      <td>0.814685</td>\n",
       "      <td>0.941338</td>\n",
       "      <td>0.085584</td>\n",
       "      <td>0.721801</td>\n",
       "      <td>0.750566</td>\n",
       "      <td>0.815748</td>\n",
       "      <td>0.509331</td>\n",
       "    </tr>\n",
       "    <tr>\n",
       "      <th>max</th>\n",
       "      <td>1.000000</td>\n",
       "      <td>1.000000</td>\n",
       "      <td>1.000000</td>\n",
       "      <td>1.000000</td>\n",
       "      <td>1.000000</td>\n",
       "      <td>0.998414</td>\n",
       "      <td>0.998043</td>\n",
       "      <td>1.000000</td>\n",
       "      <td>0.998153</td>\n",
       "      <td>0.995781</td>\n",
       "      <td>1.000000</td>\n",
       "      <td>0.999848</td>\n",
       "      <td>1.000000</td>\n",
       "      <td>1.000000</td>\n",
       "    </tr>\n",
       "  </tbody>\n",
       "</table>\n",
       "</div>"
      ],
      "text/plain": [
       "         banner_pos   device_type  device_conn_type           day  \\\n",
       "count  10000.000000  10000.000000      10000.000000  10000.000000   \n",
       "mean       0.041000      0.204800          0.067280      0.498844   \n",
       "std        0.070719      0.111257          0.172361      0.329237   \n",
       "min        0.000000      0.000000          0.000000      0.000000   \n",
       "25%        0.000000      0.200000          0.000000      0.222222   \n",
       "50%        0.000000      0.200000          0.000000      0.555556   \n",
       "75%        0.142857      0.200000          0.000000      0.777778   \n",
       "max        1.000000      1.000000          1.000000      1.000000   \n",
       "\n",
       "               hour   site_id_int  site_domain_int  site_category_int  \\\n",
       "count  10000.000000  10000.000000     10000.000000       10000.000000   \n",
       "mean       0.493565      0.696599         0.430037           0.389643   \n",
       "std        0.260132      0.204221         0.203570           0.310114   \n",
       "min        0.000000      0.007292         0.000381           0.000000   \n",
       "25%        0.304348      0.600182         0.321997           0.083993   \n",
       "50%        0.521739      0.779714         0.507436           0.374400   \n",
       "75%        0.695652      0.797679         0.507436           0.814685   \n",
       "max        1.000000      0.998414         0.998043           1.000000   \n",
       "\n",
       "         app_id_int  app_domain_int  app_category_int  device_ip_int  \\\n",
       "count  10000.000000    10000.000000      10000.000000   10000.000000   \n",
       "mean       0.771012        0.159385          0.595267       0.499175   \n",
       "std        0.274006        0.212846          0.218124       0.288587   \n",
       "min        0.004032        0.000000          0.000000       0.000110   \n",
       "25%        0.665297        0.085584          0.527194       0.250061   \n",
       "50%        0.941338        0.085584          0.721801       0.499076   \n",
       "75%        0.941338        0.085584          0.721801       0.750566   \n",
       "max        0.998153        0.995781          1.000000       0.999848   \n",
       "\n",
       "       device_model_int  dayofweek_int  \n",
       "count      10000.000000   10000.000000  \n",
       "mean           0.520406       0.387770  \n",
       "std            0.304820       0.326927  \n",
       "min            0.000000       0.000000  \n",
       "25%            0.254981       0.230424  \n",
       "50%            0.549141       0.230813  \n",
       "75%            0.815748       0.509331  \n",
       "max            1.000000       1.000000  "
      ]
     },
     "execution_count": 85,
     "metadata": {},
     "output_type": "execute_result"
    }
   ],
   "source": [
    "X_valid.describe()"
   ]
  },
  {
   "cell_type": "code",
   "execution_count": 86,
   "metadata": {},
   "outputs": [],
   "source": [
    "scaler_test = MinMaxScaler()\n"
   ]
  },
  {
   "cell_type": "code",
   "execution_count": 87,
   "metadata": {},
   "outputs": [
    {
     "data": {
      "text/plain": [
       "MinMaxScaler()"
      ]
     },
     "execution_count": 87,
     "metadata": {},
     "output_type": "execute_result"
    }
   ],
   "source": [
    "scaler_test.fit(X_test)\n"
   ]
  },
  {
   "cell_type": "code",
   "execution_count": 88,
   "metadata": {},
   "outputs": [],
   "source": [
    "X_test[input_cols] = scaler_train.transform(X_test[input_cols])"
   ]
  },
  {
   "cell_type": "code",
   "execution_count": 89,
   "metadata": {},
   "outputs": [
    {
     "data": {
      "text/html": [
       "<div>\n",
       "<style scoped>\n",
       "    .dataframe tbody tr th:only-of-type {\n",
       "        vertical-align: middle;\n",
       "    }\n",
       "\n",
       "    .dataframe tbody tr th {\n",
       "        vertical-align: top;\n",
       "    }\n",
       "\n",
       "    .dataframe thead th {\n",
       "        text-align: right;\n",
       "    }\n",
       "</style>\n",
       "<table border=\"1\" class=\"dataframe\">\n",
       "  <thead>\n",
       "    <tr style=\"text-align: right;\">\n",
       "      <th></th>\n",
       "      <th>banner_pos</th>\n",
       "      <th>device_type</th>\n",
       "      <th>device_conn_type</th>\n",
       "      <th>day</th>\n",
       "      <th>hour</th>\n",
       "      <th>site_id_int</th>\n",
       "      <th>site_domain_int</th>\n",
       "      <th>site_category_int</th>\n",
       "      <th>app_id_int</th>\n",
       "      <th>app_domain_int</th>\n",
       "      <th>app_category_int</th>\n",
       "      <th>device_ip_int</th>\n",
       "      <th>device_model_int</th>\n",
       "      <th>dayofweek_int</th>\n",
       "    </tr>\n",
       "  </thead>\n",
       "  <tbody>\n",
       "    <tr>\n",
       "      <th>count</th>\n",
       "      <td>10000.000000</td>\n",
       "      <td>10000.000000</td>\n",
       "      <td>10000.000000</td>\n",
       "      <td>10000.000000</td>\n",
       "      <td>10000.000000</td>\n",
       "      <td>10000.000000</td>\n",
       "      <td>10000.000000</td>\n",
       "      <td>10000.000000</td>\n",
       "      <td>10000.000000</td>\n",
       "      <td>10000.000000</td>\n",
       "      <td>10000.000000</td>\n",
       "      <td>10000.000000</td>\n",
       "      <td>10000.000000</td>\n",
       "      <td>10000.000000</td>\n",
       "    </tr>\n",
       "    <tr>\n",
       "      <th>mean</th>\n",
       "      <td>0.041057</td>\n",
       "      <td>0.202320</td>\n",
       "      <td>0.067460</td>\n",
       "      <td>0.505156</td>\n",
       "      <td>0.496396</td>\n",
       "      <td>0.694734</td>\n",
       "      <td>0.429912</td>\n",
       "      <td>0.392722</td>\n",
       "      <td>0.772616</td>\n",
       "      <td>0.157292</td>\n",
       "      <td>0.600677</td>\n",
       "      <td>0.489885</td>\n",
       "      <td>0.526040</td>\n",
       "      <td>0.387485</td>\n",
       "    </tr>\n",
       "    <tr>\n",
       "      <th>std</th>\n",
       "      <td>0.070512</td>\n",
       "      <td>0.103748</td>\n",
       "      <td>0.172534</td>\n",
       "      <td>0.328718</td>\n",
       "      <td>0.256519</td>\n",
       "      <td>0.207024</td>\n",
       "      <td>0.205931</td>\n",
       "      <td>0.309088</td>\n",
       "      <td>0.274235</td>\n",
       "      <td>0.210757</td>\n",
       "      <td>0.213207</td>\n",
       "      <td>0.288933</td>\n",
       "      <td>0.306541</td>\n",
       "      <td>0.324843</td>\n",
       "    </tr>\n",
       "    <tr>\n",
       "      <th>min</th>\n",
       "      <td>0.000000</td>\n",
       "      <td>0.000000</td>\n",
       "      <td>0.000000</td>\n",
       "      <td>0.000000</td>\n",
       "      <td>0.000000</td>\n",
       "      <td>0.005059</td>\n",
       "      <td>0.000381</td>\n",
       "      <td>0.000000</td>\n",
       "      <td>0.002114</td>\n",
       "      <td>0.000000</td>\n",
       "      <td>0.000000</td>\n",
       "      <td>0.000284</td>\n",
       "      <td>0.000000</td>\n",
       "      <td>0.000000</td>\n",
       "    </tr>\n",
       "    <tr>\n",
       "      <th>25%</th>\n",
       "      <td>0.000000</td>\n",
       "      <td>0.200000</td>\n",
       "      <td>0.000000</td>\n",
       "      <td>0.222222</td>\n",
       "      <td>0.304348</td>\n",
       "      <td>0.600182</td>\n",
       "      <td>0.304088</td>\n",
       "      <td>0.083993</td>\n",
       "      <td>0.665297</td>\n",
       "      <td>0.085584</td>\n",
       "      <td>0.527194</td>\n",
       "      <td>0.242045</td>\n",
       "      <td>0.259052</td>\n",
       "      <td>0.230424</td>\n",
       "    </tr>\n",
       "    <tr>\n",
       "      <th>50%</th>\n",
       "      <td>0.000000</td>\n",
       "      <td>0.200000</td>\n",
       "      <td>0.000000</td>\n",
       "      <td>0.555556</td>\n",
       "      <td>0.521739</td>\n",
       "      <td>0.779714</td>\n",
       "      <td>0.507436</td>\n",
       "      <td>0.374400</td>\n",
       "      <td>0.941338</td>\n",
       "      <td>0.085584</td>\n",
       "      <td>0.721801</td>\n",
       "      <td>0.479171</td>\n",
       "      <td>0.554229</td>\n",
       "      <td>0.230813</td>\n",
       "    </tr>\n",
       "    <tr>\n",
       "      <th>75%</th>\n",
       "      <td>0.142857</td>\n",
       "      <td>0.200000</td>\n",
       "      <td>0.000000</td>\n",
       "      <td>0.777778</td>\n",
       "      <td>0.695652</td>\n",
       "      <td>0.797679</td>\n",
       "      <td>0.507436</td>\n",
       "      <td>0.814685</td>\n",
       "      <td>0.941338</td>\n",
       "      <td>0.085584</td>\n",
       "      <td>0.721801</td>\n",
       "      <td>0.742486</td>\n",
       "      <td>0.815748</td>\n",
       "      <td>0.509331</td>\n",
       "    </tr>\n",
       "    <tr>\n",
       "      <th>max</th>\n",
       "      <td>1.000000</td>\n",
       "      <td>1.000000</td>\n",
       "      <td>1.000000</td>\n",
       "      <td>1.000000</td>\n",
       "      <td>1.000000</td>\n",
       "      <td>0.998414</td>\n",
       "      <td>0.998043</td>\n",
       "      <td>1.000000</td>\n",
       "      <td>0.993892</td>\n",
       "      <td>0.995781</td>\n",
       "      <td>0.921188</td>\n",
       "      <td>0.999889</td>\n",
       "      <td>1.000000</td>\n",
       "      <td>1.000000</td>\n",
       "    </tr>\n",
       "  </tbody>\n",
       "</table>\n",
       "</div>"
      ],
      "text/plain": [
       "         banner_pos   device_type  device_conn_type           day  \\\n",
       "count  10000.000000  10000.000000      10000.000000  10000.000000   \n",
       "mean       0.041057      0.202320          0.067460      0.505156   \n",
       "std        0.070512      0.103748          0.172534      0.328718   \n",
       "min        0.000000      0.000000          0.000000      0.000000   \n",
       "25%        0.000000      0.200000          0.000000      0.222222   \n",
       "50%        0.000000      0.200000          0.000000      0.555556   \n",
       "75%        0.142857      0.200000          0.000000      0.777778   \n",
       "max        1.000000      1.000000          1.000000      1.000000   \n",
       "\n",
       "               hour   site_id_int  site_domain_int  site_category_int  \\\n",
       "count  10000.000000  10000.000000     10000.000000       10000.000000   \n",
       "mean       0.496396      0.694734         0.429912           0.392722   \n",
       "std        0.256519      0.207024         0.205931           0.309088   \n",
       "min        0.000000      0.005059         0.000381           0.000000   \n",
       "25%        0.304348      0.600182         0.304088           0.083993   \n",
       "50%        0.521739      0.779714         0.507436           0.374400   \n",
       "75%        0.695652      0.797679         0.507436           0.814685   \n",
       "max        1.000000      0.998414         0.998043           1.000000   \n",
       "\n",
       "         app_id_int  app_domain_int  app_category_int  device_ip_int  \\\n",
       "count  10000.000000    10000.000000      10000.000000   10000.000000   \n",
       "mean       0.772616        0.157292          0.600677       0.489885   \n",
       "std        0.274235        0.210757          0.213207       0.288933   \n",
       "min        0.002114        0.000000          0.000000       0.000284   \n",
       "25%        0.665297        0.085584          0.527194       0.242045   \n",
       "50%        0.941338        0.085584          0.721801       0.479171   \n",
       "75%        0.941338        0.085584          0.721801       0.742486   \n",
       "max        0.993892        0.995781          0.921188       0.999889   \n",
       "\n",
       "       device_model_int  dayofweek_int  \n",
       "count      10000.000000   10000.000000  \n",
       "mean           0.526040       0.387485  \n",
       "std            0.306541       0.324843  \n",
       "min            0.000000       0.000000  \n",
       "25%            0.259052       0.230424  \n",
       "50%            0.554229       0.230813  \n",
       "75%            0.815748       0.509331  \n",
       "max            1.000000       1.000000  "
      ]
     },
     "execution_count": 89,
     "metadata": {},
     "output_type": "execute_result"
    }
   ],
   "source": [
    "X_test.describe()"
   ]
  },
  {
   "cell_type": "markdown",
   "metadata": {},
   "source": [
    "## Using Different Classifiers for the problem"
   ]
  },
  {
   "cell_type": "markdown",
   "metadata": {},
   "source": [
    "### Logistic Regression"
   ]
  },
  {
   "cell_type": "markdown",
   "metadata": {},
   "source": [
    "Logistic regression is a frequently used Machine Learning algorithm that falls under the category of Supervised Learning techniques. It is utilized for forecasting the categorical dependent variable through a provided set of independent variables.\n",
    "\n",
    "Logistic regression anticipates the result of a categorical dependent variable. Consequently, the output must be a categorical or discrete value, which can be either Yes or No, 0 or 1, true or False, etc. Instead of yielding an exact value of 0 or 1, it produces probability values that exist within the range of 0 and 1."
   ]
  },
  {
   "cell_type": "code",
   "execution_count": 90,
   "metadata": {},
   "outputs": [],
   "source": [
    "from sklearn.metrics import accuracy_score, confusion_matrix, precision_score, recall_score, f1_score, log_loss, r2_score, classification_report"
   ]
  },
  {
   "cell_type": "code",
   "execution_count": 91,
   "metadata": {},
   "outputs": [],
   "source": [
    "from sklearn.linear_model import LogisticRegression"
   ]
  },
  {
   "cell_type": "code",
   "execution_count": 92,
   "metadata": {},
   "outputs": [],
   "source": [
    "model_lr = LogisticRegression(solver='lbfgs', max_iter=10000, random_state=42, verbose=True)"
   ]
  },
  {
   "cell_type": "code",
   "execution_count": 93,
   "metadata": {},
   "outputs": [
    {
     "name": "stderr",
     "output_type": "stream",
     "text": [
      "[Parallel(n_jobs=1)]: Using backend SequentialBackend with 1 concurrent workers.\n"
     ]
    },
    {
     "name": "stdout",
     "output_type": "stream",
     "text": [
      "Wall time: 829 ms\n"
     ]
    },
    {
     "name": "stderr",
     "output_type": "stream",
     "text": [
      "[Parallel(n_jobs=1)]: Done   1 out of   1 | elapsed:    0.7s finished\n"
     ]
    },
    {
     "data": {
      "text/plain": [
       "LogisticRegression(max_iter=10000, random_state=42, verbose=True)"
      ]
     },
     "execution_count": 93,
     "metadata": {},
     "output_type": "execute_result"
    }
   ],
   "source": [
    "%%time\n",
    "model_lr.fit(X_train, y_train)"
   ]
  },
  {
   "cell_type": "code",
   "execution_count": 94,
   "metadata": {},
   "outputs": [
    {
     "data": {
      "text/plain": [
       "array([[ 0.49895949, -0.80615132, -1.10857673, -0.05546475,  0.04588524,\n",
       "         0.47217682, -0.22701351, -0.12839822,  0.45073118, -0.56627307,\n",
       "         0.23563374, -0.03058062, -0.19235047,  0.09157546]])"
      ]
     },
     "execution_count": 94,
     "metadata": {},
     "output_type": "execute_result"
    }
   ],
   "source": [
    "model_lr.coef_"
   ]
  },
  {
   "cell_type": "code",
   "execution_count": 95,
   "metadata": {},
   "outputs": [
    {
     "data": {
      "text/plain": [
       "array([-1.90606878])"
      ]
     },
     "execution_count": 95,
     "metadata": {},
     "output_type": "execute_result"
    }
   ],
   "source": [
    "model_lr.intercept_"
   ]
  },
  {
   "cell_type": "code",
   "execution_count": 96,
   "metadata": {},
   "outputs": [],
   "source": [
    "preds_lr = model_lr.predict(X_train)"
   ]
  },
  {
   "cell_type": "code",
   "execution_count": 97,
   "metadata": {},
   "outputs": [],
   "source": [
    "acc_train_lr = accuracy_score(y_train, preds_lr)"
   ]
  },
  {
   "cell_type": "code",
   "execution_count": 98,
   "metadata": {},
   "outputs": [
    {
     "name": "stdout",
     "output_type": "stream",
     "text": [
      "Accuracy score for training set for Logistic Regression is 0.8300728759109489\n"
     ]
    }
   ],
   "source": [
    "print('Accuracy score for training set for Logistic Regression is', acc_train_lr)"
   ]
  },
  {
   "cell_type": "code",
   "execution_count": 99,
   "metadata": {},
   "outputs": [],
   "source": [
    "val_preds_lr = model_lr.predict(X_valid)"
   ]
  },
  {
   "cell_type": "code",
   "execution_count": 100,
   "metadata": {},
   "outputs": [],
   "source": [
    "acc_val_lr = accuracy_score(y_valid, val_preds_lr)"
   ]
  },
  {
   "cell_type": "code",
   "execution_count": 101,
   "metadata": {},
   "outputs": [
    {
     "name": "stdout",
     "output_type": "stream",
     "text": [
      "Accuracy score for validation set for Logistic Regression is 0.8296\n"
     ]
    }
   ],
   "source": [
    "print('Accuracy score for validation set for Logistic Regression is', acc_val_lr)"
   ]
  },
  {
   "cell_type": "markdown",
   "metadata": {},
   "source": [
    "## DecisionTreeClassifier"
   ]
  },
  {
   "cell_type": "markdown",
   "metadata": {},
   "source": [
    "#### A Decision tree consists of two primary nodes, namely the Decision Node and the Leaf Node. Decision Nodes are employed to make choices and have numerous branches, whereas Leaf Nodes are the results of those decisions and do not have additional branches.\n",
    "\n",
    "- The assessments or tests are conducted based on the characteristics of the dataset. It represents a visual depiction of all feasible solutions to a problem/decision based on the specified conditions."
   ]
  },
  {
   "cell_type": "code",
   "execution_count": 102,
   "metadata": {},
   "outputs": [],
   "source": [
    "from sklearn.tree import DecisionTreeClassifier\n",
    "\n",
    "model = DecisionTreeClassifier(random_state=42)"
   ]
  },
  {
   "cell_type": "code",
   "execution_count": 103,
   "metadata": {},
   "outputs": [
    {
     "name": "stdout",
     "output_type": "stream",
     "text": [
      "Wall time: 950 ms\n"
     ]
    },
    {
     "data": {
      "text/plain": [
       "DecisionTreeClassifier(random_state=42)"
      ]
     },
     "execution_count": 103,
     "metadata": {},
     "output_type": "execute_result"
    }
   ],
   "source": [
    "%%time\n",
    "model.fit(X_train, y_train)"
   ]
  },
  {
   "cell_type": "code",
   "execution_count": 104,
   "metadata": {},
   "outputs": [],
   "source": [
    "preds_dtc = model.predict(X_train)"
   ]
  },
  {
   "cell_type": "code",
   "execution_count": 105,
   "metadata": {},
   "outputs": [],
   "source": [
    "acc_train_dtc = accuracy_score(y_train, preds_dtc)"
   ]
  },
  {
   "cell_type": "code",
   "execution_count": 106,
   "metadata": {},
   "outputs": [
    {
     "name": "stdout",
     "output_type": "stream",
     "text": [
      "Accuracy score for Training set for Decision Tree classifier is 0.9987874848435605\n"
     ]
    }
   ],
   "source": [
    "print('Accuracy score for Training set for Decision Tree classifier is', acc_train_dtc)"
   ]
  },
  {
   "cell_type": "code",
   "execution_count": 107,
   "metadata": {},
   "outputs": [],
   "source": [
    "acc_val_dtc = model.score(X_valid, y_valid)"
   ]
  },
  {
   "cell_type": "code",
   "execution_count": 108,
   "metadata": {},
   "outputs": [
    {
     "name": "stdout",
     "output_type": "stream",
     "text": [
      "Accuracy score for validation set for Decision Tree classifier is 0.7366\n"
     ]
    }
   ],
   "source": [
    "print('Accuracy score for validation set for Decision Tree classifier is', acc_val_dtc)"
   ]
  },
  {
   "cell_type": "code",
   "execution_count": 109,
   "metadata": {},
   "outputs": [
    {
     "data": {
      "image/png": "[encoded data removed]",
      "text/plain": [
       "<Figure size 5760x1440 with 1 Axes>"
      ]
     },
     "metadata": {
      "needs_background": "light"
     },
     "output_type": "display_data"
    }
   ],
   "source": [
    "plt.figure(figsize=(80,20))\n",
    "plot_tree(model, feature_names=X_train.columns, max_depth=2, filled=True);"
   ]
  },
  {
   "cell_type": "code",
   "execution_count": 110,
   "metadata": {},
   "outputs": [
    {
     "data": {
      "text/plain": [
       "54"
      ]
     },
     "execution_count": 110,
     "metadata": {},
     "output_type": "execute_result"
    }
   ],
   "source": [
    "model.tree_.max_depth"
   ]
  },
  {
   "cell_type": "code",
   "execution_count": 111,
   "metadata": {},
   "outputs": [
    {
     "name": "stdout",
     "output_type": "stream",
     "text": [
      "|--- app_category_int <= 0.71\n",
      "|   |--- app_id_int <= 0.30\n",
      "|   |   |--- app_id_int <= 0.20\n",
      "|   |   |   |--- app_id_int <= 0.16\n",
      "|   |   |   |   |--- app_category_int <= 0.11\n",
      "|   |   |   |   |   |--- app_id_int <= 0.03\n",
      "|   |   |   |   |   |   |--- app_id_int <= 0.03\n",
      "|   |   |   |   |   |   |   |--- hour <= 0.74\n",
      "|   |   |   |   |   |   |   |   |--- class: 0\n",
      "|   |   |   |   |   |   |   |--- hour >  0.74\n",
      "|   |   |   |   |   |   |   |   |--- hour <= 0.83\n",
      "|   |   |   |   |   |   |   |   |   |--- class: 1\n",
      "|   |   |   |   |   |   |   |   |--- hour >  0.83\n",
      "|   |   |   |   |   |   |   |   |   |--- class: 0\n",
      "|   |   |   |   |   |   |--- app_id_int >  0.03\n",
      "|   |   |   |   |   |   |   |--- class: 1\n",
      "|   |   |   |   |   |--- app_id_int >  0.03\n",
      "|   |   |   |   |   |   |--- app_id_int <= 0.14\n",
      "|   |   |   |   |   |   |   |--- device_model_int <= 0.99\n",
      "|   |   |   |   |   |   |   |   |--- app_id_int <= 0.08\n",
      "|   |   |   |   |   |   |   |   |   |--- day <= 0.94\n",
      "|   |   |   |   |   |   |   |   |   |   |--- hour <= 0.46\n",
      "|   |   |   |   |   |   |   |   |   |   |   |--- class: 0\n",
      "|   |   |   |   |   |   |   |   |   |   |--- hour >  0.46\n",
      "|   |   |   |   |   |   |   |   |   |   |   |--- truncated branch of depth 4\n",
      "|   |   |   |   |   |   |   |   |   |--- day >  0.94\n",
      "|   |   |   |   |   |   |   |   |   |   |--- device_conn_type <= 0.30\n",
      "|   |   |   |   |   |   |   |   |   |   |   |--- class: 0\n",
      "|   |   |   |   |   |   |   |   |   |   |--- device_conn_type >  0.30\n",
      "|   |   |   |   |   |   |   |   |   |   |   |--- class: 1\n",
      "|   |   |   |   |   |   |   |   |--- app_id_int >  0.08\n",
      "|   |   |   |   |   |   |   |   |   |--- day <= 0.28\n",
      "|   |   |   |   |   |   |   |   |   |   |--- app_id_int <= 0.13\n",
      "|   |   |   |   |   |   |   |   |   |   |   |--- class: 0\n",
      "|   |   |   |   |   |   |   |   |   |   |--- app_id_int >  0.13\n",
      "|   |   |   |   |   |   |   |   |   |   |   |--- truncated branch of depth 7\n",
      "|   |   |   |   |   |   |   |   |   |--- day >  0.28\n",
      "|   |   |   |   |   |   |   |   |   |   |--- device_model_int <=\n"
     ]
    }
   ],
   "source": [
    "tree_text = export_text(model, max_depth=10, feature_names=list(X_train.columns))\n",
    "print(tree_text[:2000])"
   ]
  },
  {
   "cell_type": "code",
   "execution_count": 112,
   "metadata": {},
   "outputs": [
    {
     "data": {
      "text/plain": [
       "array([0.00601206, 0.00280956, 0.00897399, 0.06756507, 0.15256455,\n",
       "       0.04485272, 0.0441455 , 0.00624069, 0.02905007, 0.00717739,\n",
       "       0.01401357, 0.35548201, 0.20454538, 0.05656743])"
      ]
     },
     "execution_count": 112,
     "metadata": {},
     "output_type": "execute_result"
    }
   ],
   "source": [
    "model.feature_importances_"
   ]
  },
  {
   "cell_type": "code",
   "execution_count": 113,
   "metadata": {},
   "outputs": [],
   "source": [
    "importance_df = pd.DataFrame({\n",
    "    'feature': X_train.columns,\n",
    "    'importance': model.feature_importances_\n",
    "}).sort_values('importance', ascending=False)"
   ]
  },
  {
   "cell_type": "code",
   "execution_count": 114,
   "metadata": {},
   "outputs": [
    {
     "data": {
      "text/html": [
       "<div>\n",
       "<style scoped>\n",
       "    .dataframe tbody tr th:only-of-type {\n",
       "        vertical-align: middle;\n",
       "    }\n",
       "\n",
       "    .dataframe tbody tr th {\n",
       "        vertical-align: top;\n",
       "    }\n",
       "\n",
       "    .dataframe thead th {\n",
       "        text-align: right;\n",
       "    }\n",
       "</style>\n",
       "<table border=\"1\" class=\"dataframe\">\n",
       "  <thead>\n",
       "    <tr style=\"text-align: right;\">\n",
       "      <th></th>\n",
       "      <th>feature</th>\n",
       "      <th>importance</th>\n",
       "    </tr>\n",
       "  </thead>\n",
       "  <tbody>\n",
       "    <tr>\n",
       "      <th>11</th>\n",
       "      <td>device_ip_int</td>\n",
       "      <td>0.355482</td>\n",
       "    </tr>\n",
       "    <tr>\n",
       "      <th>12</th>\n",
       "      <td>device_model_int</td>\n",
       "      <td>0.204545</td>\n",
       "    </tr>\n",
       "    <tr>\n",
       "      <th>4</th>\n",
       "      <td>hour</td>\n",
       "      <td>0.152565</td>\n",
       "    </tr>\n",
       "    <tr>\n",
       "      <th>3</th>\n",
       "      <td>day</td>\n",
       "      <td>0.067565</td>\n",
       "    </tr>\n",
       "    <tr>\n",
       "      <th>13</th>\n",
       "      <td>dayofweek_int</td>\n",
       "      <td>0.056567</td>\n",
       "    </tr>\n",
       "    <tr>\n",
       "      <th>5</th>\n",
       "      <td>site_id_int</td>\n",
       "      <td>0.044853</td>\n",
       "    </tr>\n",
       "    <tr>\n",
       "      <th>6</th>\n",
       "      <td>site_domain_int</td>\n",
       "      <td>0.044146</td>\n",
       "    </tr>\n",
       "    <tr>\n",
       "      <th>8</th>\n",
       "      <td>app_id_int</td>\n",
       "      <td>0.029050</td>\n",
       "    </tr>\n",
       "    <tr>\n",
       "      <th>10</th>\n",
       "      <td>app_category_int</td>\n",
       "      <td>0.014014</td>\n",
       "    </tr>\n",
       "    <tr>\n",
       "      <th>2</th>\n",
       "      <td>device_conn_type</td>\n",
       "      <td>0.008974</td>\n",
       "    </tr>\n",
       "  </tbody>\n",
       "</table>\n",
       "</div>"
      ],
      "text/plain": [
       "             feature  importance\n",
       "11     device_ip_int    0.355482\n",
       "12  device_model_int    0.204545\n",
       "4               hour    0.152565\n",
       "3                day    0.067565\n",
       "13     dayofweek_int    0.056567\n",
       "5        site_id_int    0.044853\n",
       "6    site_domain_int    0.044146\n",
       "8         app_id_int    0.029050\n",
       "10  app_category_int    0.014014\n",
       "2   device_conn_type    0.008974"
      ]
     },
     "execution_count": 114,
     "metadata": {},
     "output_type": "execute_result"
    }
   ],
   "source": [
    "importance_df.head(10)"
   ]
  },
  {
   "cell_type": "markdown",
   "metadata": {},
   "source": [
    "#### Below are the top 10 most important features which play important role in predicting the CTR.\n",
    "Device_ip_int being the most important feature with 0.3474 value and device_model_int being second most important feature with 0.2122 value"
   ]
  },
  {
   "cell_type": "code",
   "execution_count": 115,
   "metadata": {},
   "outputs": [
    {
     "data": {
      "image/png": "[encoded data removed]",
      "text/plain": [
       "<Figure size 432x288 with 1 Axes>"
      ]
     },
     "metadata": {
      "needs_background": "light"
     },
     "output_type": "display_data"
    }
   ],
   "source": [
    "plt.title('Feature Importance')\n",
    "sns.barplot(data=importance_df.head(10), x='importance', y='feature');"
   ]
  },
  {
   "cell_type": "markdown",
   "metadata": {},
   "source": [
    "### RandomForestClassifier"
   ]
  },
  {
   "cell_type": "code",
   "execution_count": 116,
   "metadata": {},
   "outputs": [],
   "source": [
    "from sklearn.ensemble import RandomForestClassifier"
   ]
  },
  {
   "cell_type": "code",
   "execution_count": 117,
   "metadata": {},
   "outputs": [],
   "source": [
    "model_rfc = RandomForestClassifier(n_jobs=-1, random_state=42)"
   ]
  },
  {
   "cell_type": "code",
   "execution_count": 118,
   "metadata": {},
   "outputs": [
    {
     "name": "stdout",
     "output_type": "stream",
     "text": [
      "Wall time: 5.23 s\n"
     ]
    },
    {
     "data": {
      "text/plain": [
       "RandomForestClassifier(n_jobs=-1, random_state=42)"
      ]
     },
     "execution_count": 118,
     "metadata": {},
     "output_type": "execute_result"
    }
   ],
   "source": [
    "%%time\n",
    "model_rfc.fit(X_train, y_train)"
   ]
  },
  {
   "cell_type": "code",
   "execution_count": 119,
   "metadata": {},
   "outputs": [],
   "source": [
    "acc_train_rfc = model_rfc.score(X_train, y_train)"
   ]
  },
  {
   "cell_type": "code",
   "execution_count": 120,
   "metadata": {},
   "outputs": [
    {
     "name": "stdout",
     "output_type": "stream",
     "text": [
      "Accuracy score for training set for Random Forest classifier is 0.9987374842185527\n"
     ]
    }
   ],
   "source": [
    "print('Accuracy score for training set for Random Forest classifier is', acc_train_rfc)"
   ]
  },
  {
   "cell_type": "code",
   "execution_count": 121,
   "metadata": {},
   "outputs": [],
   "source": [
    "acc_val_rfc = model_rfc.score(X_valid, y_valid)"
   ]
  },
  {
   "cell_type": "code",
   "execution_count": 122,
   "metadata": {},
   "outputs": [
    {
     "name": "stdout",
     "output_type": "stream",
     "text": [
      "Accuracy score for validation set for Random Forest classifier is 0.8178\n"
     ]
    }
   ],
   "source": [
    "print('Accuracy score for validation set for Random Forest classifier is', acc_val_rfc)"
   ]
  },
  {
   "cell_type": "code",
   "execution_count": 123,
   "metadata": {},
   "outputs": [],
   "source": [
    "importance_df = pd.DataFrame({\n",
    "    'feature': X_train.columns,\n",
    "    'importance': model.feature_importances_\n",
    "}).sort_values('importance', ascending=False)"
   ]
  },
  {
   "cell_type": "code",
   "execution_count": 124,
   "metadata": {},
   "outputs": [
    {
     "data": {
      "text/html": [
       "<div>\n",
       "<style scoped>\n",
       "    .dataframe tbody tr th:only-of-type {\n",
       "        vertical-align: middle;\n",
       "    }\n",
       "\n",
       "    .dataframe tbody tr th {\n",
       "        vertical-align: top;\n",
       "    }\n",
       "\n",
       "    .dataframe thead th {\n",
       "        text-align: right;\n",
       "    }\n",
       "</style>\n",
       "<table border=\"1\" class=\"dataframe\">\n",
       "  <thead>\n",
       "    <tr style=\"text-align: right;\">\n",
       "      <th></th>\n",
       "      <th>feature</th>\n",
       "      <th>importance</th>\n",
       "    </tr>\n",
       "  </thead>\n",
       "  <tbody>\n",
       "    <tr>\n",
       "      <th>11</th>\n",
       "      <td>device_ip_int</td>\n",
       "      <td>0.355482</td>\n",
       "    </tr>\n",
       "    <tr>\n",
       "      <th>12</th>\n",
       "      <td>device_model_int</td>\n",
       "      <td>0.204545</td>\n",
       "    </tr>\n",
       "    <tr>\n",
       "      <th>4</th>\n",
       "      <td>hour</td>\n",
       "      <td>0.152565</td>\n",
       "    </tr>\n",
       "    <tr>\n",
       "      <th>3</th>\n",
       "      <td>day</td>\n",
       "      <td>0.067565</td>\n",
       "    </tr>\n",
       "    <tr>\n",
       "      <th>13</th>\n",
       "      <td>dayofweek_int</td>\n",
       "      <td>0.056567</td>\n",
       "    </tr>\n",
       "    <tr>\n",
       "      <th>5</th>\n",
       "      <td>site_id_int</td>\n",
       "      <td>0.044853</td>\n",
       "    </tr>\n",
       "    <tr>\n",
       "      <th>6</th>\n",
       "      <td>site_domain_int</td>\n",
       "      <td>0.044146</td>\n",
       "    </tr>\n",
       "    <tr>\n",
       "      <th>8</th>\n",
       "      <td>app_id_int</td>\n",
       "      <td>0.029050</td>\n",
       "    </tr>\n",
       "    <tr>\n",
       "      <th>10</th>\n",
       "      <td>app_category_int</td>\n",
       "      <td>0.014014</td>\n",
       "    </tr>\n",
       "    <tr>\n",
       "      <th>2</th>\n",
       "      <td>device_conn_type</td>\n",
       "      <td>0.008974</td>\n",
       "    </tr>\n",
       "  </tbody>\n",
       "</table>\n",
       "</div>"
      ],
      "text/plain": [
       "             feature  importance\n",
       "11     device_ip_int    0.355482\n",
       "12  device_model_int    0.204545\n",
       "4               hour    0.152565\n",
       "3                day    0.067565\n",
       "13     dayofweek_int    0.056567\n",
       "5        site_id_int    0.044853\n",
       "6    site_domain_int    0.044146\n",
       "8         app_id_int    0.029050\n",
       "10  app_category_int    0.014014\n",
       "2   device_conn_type    0.008974"
      ]
     },
     "execution_count": 124,
     "metadata": {},
     "output_type": "execute_result"
    }
   ],
   "source": [
    "importance_df.head(10)"
   ]
  },
  {
   "cell_type": "code",
   "execution_count": 125,
   "metadata": {},
   "outputs": [
    {
     "data": {
      "image/png": "[encoded data removed]",
      "text/plain": [
       "<Figure size 432x288 with 1 Axes>"
      ]
     },
     "metadata": {
      "needs_background": "light"
     },
     "output_type": "display_data"
    }
   ],
   "source": [
    "plt.title('Feature Importance')\n",
    "sns.barplot(data=importance_df.head(10), x='importance', y='feature');"
   ]
  },
  {
   "cell_type": "markdown",
   "metadata": {},
   "source": [
    "   #### Inference: As Random Forest Classifier has a good accuracy on both train and validation dataset, we can select this to predict the number of clicks as per this Marketing Ad Campaign. "
   ]
  },
  {
   "cell_type": "markdown",
   "metadata": {},
   "source": [
    "### Analysis:\n",
    " Random Forest is a commonly used machine learning algorithm that is categorized as a supervised learning technique. It has the capability to address Classification and Regression issues in the domain of ML. Its foundation is based on the concept of ensemble learning, which is a technique for combining several classifiers to resolve a complicated problem and enhance the model's efficiency.\n",
    "\n",
    "The Random Forest classifier, as its name implies, consists of multiple decision trees created on different subsets of the dataset provided, and then it calculates the average to enhance the predictive accuracy of that dataset. Rather than depending on a single decision tree, Random Forest utilizes the predictions from each tree and makes its final output prediction based on the majority of the votes from the predictions.\n",
    "\n",
    "Having a greater number of trees in the forest results in higher accuracy and eliminates the risk of overfitting."
   ]
  },
  {
   "cell_type": "code",
   "execution_count": 126,
   "metadata": {},
   "outputs": [
    {
     "data": {
      "image/png": "[encoded data removed]",
      "text/plain": [
       "<Figure size 504x504 with 1 Axes>"
      ]
     },
     "metadata": {},
     "output_type": "display_data"
    }
   ],
   "source": [
    " plt.figure(figsize=(7,7))\n",
    " y.value_counts().plot.pie(ylabel=' ', autopct = '%0.1f%%')\n",
    " plt.title(f'0 - Not clicked (negative)\\n 1 - Clicked (yes)', size=14, c='green')\n",
    " plt.tight_layout(); plt.show() "
   ]
  },
  {
   "cell_type": "markdown",
   "metadata": {},
   "source": [
    "## Cross Vaidation and Hyper parameter tuning: (Using feature Selection)\n",
    "## Evaluation metrics on the Selected Model:\n",
    "\n",
    "Now let us perform Cross Validation on the Random Forrest model.\n",
    "The purpose of cross–validation is to test the ability of a machine learning model to predict new data. It is also used to flag problems like overfitting or selection bias and gives insights on how the model will generalize to an independent dataset.\n",
    "It ensures that the score of our model does not depend on the way we select our train and test subsets. In this approach, we divide the data set into n number of subsets and the holdout method is repeated n number of times.\n"
   ]
  },
  {
   "cell_type": "code",
   "execution_count": 127,
   "metadata": {},
   "outputs": [
    {
     "name": "stdout",
     "output_type": "stream",
     "text": [
      "Fitting 2 folds for each of 8 candidates, totalling 16 fits\n",
      "[CV] END bootstrap=True, max_depth=1, max_features=sqrt, min_samples_leaf=4, min_samples_split=10, n_estimators=50; total time=   0.4s\n",
      "[CV] END bootstrap=True, max_depth=1, max_features=sqrt, min_samples_leaf=4, min_samples_split=10, n_estimators=50; total time=   0.4s\n",
      "[CV] END bootstrap=False, max_depth=1, max_features=auto, min_samples_leaf=1, min_samples_split=2, n_estimators=200; total time=   1.7s\n",
      "[CV] END bootstrap=False, max_depth=1, max_features=auto, min_samples_leaf=1, min_samples_split=2, n_estimators=200; total time=   1.7s\n",
      "[CV] END bootstrap=False, max_depth=4, max_features=sqrt, min_samples_leaf=4, min_samples_split=10, n_estimators=150; total time=   3.0s\n",
      "[CV] END bootstrap=False, max_depth=4, max_features=sqrt, min_samples_leaf=4, min_samples_split=10, n_estimators=150; total time=   3.0s\n",
      "[CV] END bootstrap=True, max_depth=3, max_features=sqrt, min_samples_leaf=1, min_samples_split=2, n_estimators=50; total time=   0.7s\n",
      "[CV] END bootstrap=True, max_depth=3, max_features=sqrt, min_samples_leaf=1, min_samples_split=2, n_estimators=50; total time=   0.7s\n",
      "[CV] END bootstrap=True, max_depth=1, max_features=sqrt, min_samples_leaf=4, min_samples_split=10, n_estimators=250; total time=   2.2s\n",
      "[CV] END bootstrap=True, max_depth=1, max_features=sqrt, min_samples_leaf=4, min_samples_split=10, n_estimators=250; total time=   2.2s\n",
      "[CV] END bootstrap=True, max_depth=1, max_features=sqrt, min_samples_leaf=1, min_samples_split=10, n_estimators=300; total time=   2.7s\n",
      "[CV] END bootstrap=True, max_depth=1, max_features=sqrt, min_samples_leaf=1, min_samples_split=10, n_estimators=300; total time=   3.1s\n",
      "[CV] END bootstrap=False, max_depth=3, max_features=auto, min_samples_leaf=4, min_samples_split=10, n_estimators=250; total time=   4.1s\n",
      "[CV] END bootstrap=False, max_depth=3, max_features=auto, min_samples_leaf=4, min_samples_split=10, n_estimators=250; total time=   4.1s\n",
      "[CV] END bootstrap=True, max_depth=1, max_features=auto, min_samples_leaf=2, min_samples_split=2, n_estimators=150; total time=   1.3s\n",
      "[CV] END bootstrap=True, max_depth=1, max_features=auto, min_samples_leaf=2, min_samples_split=2, n_estimators=150; total time=   1.3s\n",
      "best params for RF: {'n_estimators': 50, 'min_samples_split': 10, 'min_samples_leaf': 4, 'max_features': 'sqrt', 'max_depth': 1, 'bootstrap': True}\n"
     ]
    }
   ],
   "source": [
    "\n",
    "# cross-validation\n",
    "\n",
    "from sklearn.model_selection import RandomizedSearchCV\n",
    "# Number of trees in random forest\n",
    "n_estimators = [int(x) for x in np.linspace(start = 50, stop = 300, num = 6)]\n",
    "# Number of features to consider at every split\n",
    "max_features = ['auto', 'sqrt']\n",
    "# Maximum number of levels in tree\n",
    "max_depth = [1,2,3,4]\n",
    "max_depth\n",
    "# Minimum number of samples required to split a node\n",
    "min_samples_split = [2, 5, 10]\n",
    "# Minimum number of samples required at each leaf node\n",
    "min_samples_leaf = [1, 2, 4]\n",
    "# Method of selecting samples for training each tree\n",
    "bootstrap = [True, False]\n",
    "# Create the random grid\n",
    "random_grid = {'n_estimators': n_estimators,\n",
    "               'max_features': max_features,\n",
    "               'max_depth': max_depth,\n",
    "               'min_samples_split': min_samples_split,\n",
    "               'min_samples_leaf': min_samples_leaf,\n",
    "               'bootstrap': bootstrap}\n",
    "\n",
    "# Use the random grid to search for best hyperparameters\n",
    "from sklearn.ensemble import RandomForestClassifier\n",
    "# First create the base model to tune\n",
    "rf = RandomForestClassifier()\n",
    "# Random search of parameters, using 3 fold cross validation, \n",
    "# search across 100 different combinations, and use all available cores\n",
    "rf_random = RandomizedSearchCV(estimator = rf, param_distributions = random_grid, cv = 2, verbose=2, random_state=42, n_iter=8, n_jobs=1)\n",
    "# Fit the random search model\n",
    "rf_random.fit(X_train, y_train)\n",
    "print('best params for RF: {}'.format(rf_random.best_params_))"
   ]
  },
  {
   "cell_type": "markdown",
   "metadata": {},
   "source": [
    "## Evaluation on Train data"
   ]
  },
  {
   "cell_type": "code",
   "execution_count": 132,
   "metadata": {},
   "outputs": [],
   "source": [
    "from sklearn.metrics import accuracy_score, f1_score, roc_curve, auc, log_loss\n"
   ]
  },
  {
   "cell_type": "code",
   "execution_count": 133,
   "metadata": {},
   "outputs": [],
   "source": [
    "from sklearn.metrics import plot_confusion_matrix"
   ]
  },
  {
   "cell_type": "code",
   "execution_count": 136,
   "metadata": {},
   "outputs": [
    {
     "data": {
      "text/plain": [
       "RandomForestClassifier(max_depth=4, max_features='sqrt', n_estimators=50)"
      ]
     },
     "execution_count": 136,
     "metadata": {},
     "output_type": "execute_result"
    }
   ],
   "source": [
    "from sklearn.ensemble import RandomForestClassifier\n",
    "rf_clf = RandomForestClassifier(n_estimators=50, max_features='sqrt', max_depth=4, bootstrap=True)\n",
    "rf_clf.fit(X_train, y_train)\n",
    "\n"
   ]
  },
  {
   "cell_type": "code",
   "execution_count": 140,
   "metadata": {
    "scrolled": false
   },
   "outputs": [
    {
     "name": "stdout",
     "output_type": "stream",
     "text": [
      "AUC: 0.653667910599419\n",
      "cross-entropy loss: 0.4390057869054201\n",
      "F1-score; 0.0\n"
     ]
    },
    {
     "data": {
      "text/plain": [
       "<sklearn.metrics._plot.confusion_matrix.ConfusionMatrixDisplay at 0x16e582075f8>"
      ]
     },
     "execution_count": 140,
     "metadata": {},
     "output_type": "execute_result"
    },
    {
     "data": {
      "image/png": "[encoded data removed]",
      "text/plain": [
       "<Figure size 432x288 with 2 Axes>"
      ]
     },
     "metadata": {
      "needs_background": "light"
     },
     "output_type": "display_data"
    }
   ],
   "source": [
    "pred_y_train_rf = rf_clf.predict(X_train)\n",
    "fpr_train_rf, tpr_train_rf, thresholds = roc_curve(y_train, rf_clf.predict_proba(X_train)[:,1])\n",
    "print('AUC: {}'.format(auc(fpr_train_rf, tpr_train_rf)))\n",
    "print('cross-entropy loss: {}'.format(log_loss(y_train, rf_clf.predict_proba(X_train)[:,1])))\n",
    "print('F1-score; {}'.format(f1_score(y_train, pred_y_train_rf)))\n",
    "plot_confusion_matrix(rf_clf, X_train, y_train)\n"
   ]
  },
  {
   "cell_type": "markdown",
   "metadata": {},
   "source": [
    "## Evaluation on test data"
   ]
  },
  {
   "cell_type": "code",
   "execution_count": 135,
   "metadata": {},
   "outputs": [
    {
     "name": "stdout",
     "output_type": "stream",
     "text": [
      "AUC: 0.6539820665982602\n",
      "cross-entropy loss: 0.4359673378888917\n",
      "F1-score; 0.0\n"
     ]
    },
    {
     "data": {
      "text/plain": [
       "<sklearn.metrics._plot.confusion_matrix.ConfusionMatrixDisplay at 0x16e583df390>"
      ]
     },
     "execution_count": 135,
     "metadata": {},
     "output_type": "execute_result"
    },
    {
     "data": {
      "image/png": "[encoded data removed]",
      "text/plain": [
       "<Figure size 432x288 with 2 Axes>"
      ]
     },
     "metadata": {
      "needs_background": "light"
     },
     "output_type": "display_data"
    }
   ],
   "source": [
    "pred_y_test_rf = rf_clf.predict(X_test)\n",
    "fpr_test_rf, tpr_test_rf, thresholds = roc_curve(y_test, rf_clf.predict_proba(X_test)[:,1])\n",
    "print('AUC: {}'.format(auc(fpr_test_rf, tpr_test_rf)))\n",
    "print('cross-entropy loss: {}'.format(log_loss(y_test, rf_clf.predict_proba(X_test)[:,1])))\n",
    "print('F1-score; {}'.format(f1_score(y_test, pred_y_test_rf)))\n",
    "plot_confusion_matrix(rf_clf, X_test, y_test)\n",
    "\n"
   ]
  },
  {
   "cell_type": "markdown",
   "metadata": {},
   "source": [
    "## Let us Analyze the evalution metrics of a decision tree classifier"
   ]
  },
  {
   "cell_type": "code",
   "execution_count": 141,
   "metadata": {},
   "outputs": [
    {
     "name": "stdout",
     "output_type": "stream",
     "text": [
      "F1 Score:  0.2562534741523068\n"
     ]
    }
   ],
   "source": [
    "from sklearn.tree import DecisionTreeClassifier\n",
    "from sklearn.metrics import f1_score\n",
    "\n",
    "# assuming X_train, y_train, X_test, y_test are the training and testing datasets\n",
    "dtc = DecisionTreeClassifier()  # create a decision tree classifier object\n",
    "dtc.fit(X_train, y_train)  # train the decision tree classifier on the training data\n",
    "y_pred = dtc.predict(X_test)  # predict the labels for the test data\n",
    "\n",
    "# calculate the f1 score\n",
    "f1score = f1_score(y_test, y_pred)\n",
    "\n",
    "print(\"F1 Score: \", f1score)"
   ]
  },
  {
   "cell_type": "code",
   "execution_count": 145,
   "metadata": {},
   "outputs": [
    {
     "name": "stdout",
     "output_type": "stream",
     "text": [
      "Accuracy:  0.7374\n",
      "Precision:  0.7454543443031094\n",
      "Recall:  0.7374\n",
      "F1 Score:  0.741316681721138\n",
      "Confusion Matrix: \n",
      " [[20747  4141]\n",
      " [ 3737  1375]]\n",
      "True Labels:  26002    0\n",
      "80420    0\n",
      "19864    0\n",
      "81525    1\n",
      "57878    0\n",
      "        ..\n",
      "81501    0\n",
      "40375    0\n",
      "94998    0\n",
      "76512    0\n",
      "71374    1\n",
      "Name: y, Length: 30000, dtype: int64\n",
      "Predicted Labels:  [0 0 0 ... 1 0 0]\n"
     ]
    }
   ],
   "source": [
    "from sklearn.model_selection import train_test_split\n",
    "from sklearn.tree import DecisionTreeClassifier\n",
    "from sklearn.metrics import accuracy_score, precision_score, recall_score, f1_score, confusion_matrix\n",
    "\n",
    "\n",
    "X = train_df.drop(columns = ['y']).copy()\n",
    "y = train_df['y']\n",
    "\n",
    "# split the dataset into training and testing data\n",
    "X_train, X_test, y_train, y_test = train_test_split(X, y, test_size=0.3, random_state=42)\n",
    "\n",
    "# create a decision tree classifier object\n",
    "dtc = DecisionTreeClassifier()\n",
    "\n",
    "# train the decision tree classifier on the training data\n",
    "dtc.fit(X_train, y_train)\n",
    "\n",
    "# predict the labels for the test data\n",
    "y_pred = dtc.predict(X_test)\n",
    "\n",
    "# calculate the evaluation metrics\n",
    "accuracy = accuracy_score(y_test, y_pred)\n",
    "precision = precision_score(y_test, y_pred, average='weighted')\n",
    "recall = recall_score(y_test, y_pred, average='weighted')\n",
    "f1score = f1_score(y_test, y_pred, average='weighted')\n",
    "conf_matrix = confusion_matrix(y_test, y_pred)\n",
    "\n",
    "# print the evaluation metrics\n",
    "print(\"Accuracy: \", accuracy)\n",
    "print(\"Precision: \", precision)\n",
    "print(\"Recall: \", recall)\n",
    "print(\"F1 Score: \", f1score)\n",
    "print(\"Confusion Matrix: \\n\", conf_matrix)\n",
    "\n",
    "# print the true and predicted labels\n",
    "print(\"True Labels: \", y_test)\n",
    "print(\"Predicted Labels: \", y_pred)"
   ]
  },
  {
   "cell_type": "code",
   "execution_count": 146,
   "metadata": {},
   "outputs": [
    {
     "data": {
      "text/plain": [
       "<sklearn.metrics._plot.confusion_matrix.ConfusionMatrixDisplay at 0x16e56d15c50>"
      ]
     },
     "execution_count": 146,
     "metadata": {},
     "output_type": "execute_result"
    },
    {
     "data": {
      "image/png": "[encoded data removed]",
      "text/plain": [
       "<Figure size 432x288 with 2 Axes>"
      ]
     },
     "metadata": {
      "needs_background": "light"
     },
     "output_type": "display_data"
    }
   ],
   "source": [
    "plot_confusion_matrix(dtc, X_test, y_test)"
   ]
  },
  {
   "cell_type": "markdown",
   "metadata": {},
   "source": [
    "#### 1. Which 3 methods of classification are chosen and why?\n",
    "Logistic Regression, Random Forest Classifier and Decision Tree classifier.\n",
    "\n",
    "Logistic Regression, Random Forest Classifier, and Decision Tree Classifier are popular models for classification tasks due to their simplicity, effectiveness, and interpretability.\n",
    "\n",
    "\n",
    "Logistic Regression:\n",
    "Logistic Regression is a statistical model that predicts the probability of a binary outcome. It works well for problems where the outcome is binary, and the input features are continuous or categorical. It is a simple and interpretable model that can handle a large number of features.\n",
    "\n",
    "\n",
    "Random Forest Classifier:\n",
    "Random Forest Classifier is an ensemble learning method that combines multiple decision trees to make a prediction. It is effective for both classification and regression tasks and works well for large datasets with many features. It is less prone to overfitting and provides good accuracy.\n",
    "\n",
    "\n",
    "Decision Tree Classifier:\n",
    "Decision Tree Classifier is a simple and interpretable model that splits the dataset into smaller subsets based on the features to predict the target variable. It is effective for small to medium-sized datasets and works well with both categorical and continuous features.\n",
    "\n",
    "\n",
    "#### 2. Which method among the 3 chosen is working better than the other 2?\n",
    "Decision Tree Classifier was chosen on the basis of evaluation metrics. F1 Score for other 2 models were almost 0. When the F1 score of a model is 0, it indicates that the model's predictions are incorrect for all of the positive class samples. The F1 score is a measure of a model's accuracy in identifying both the positive and negative class samples, so a score of 0 for the positive class means that the model is not correctly identifying any positive samples. Hence Decision Tree classifier was chosen as it had F1 score of 0.7\n",
    "\n",
    "\n",
    "#### 3. How is feature engineering changing the results of the evaluation metrics?\n",
    "\n",
    "Feature engineering helped in improving the predicted results of the model and accuracy level. "
   ]
  },
  {
   "cell_type": "markdown",
   "metadata": {},
   "source": [
    "# Conclusion:\n",
    "\n",
    "- The data given consisted several numeric and categorical attributes. Data cleaning was performed and after stage 1 EDA, data was analyzed to remove unnecessary columns\n",
    "\n",
    "\n",
    "- Categorical data was converted to numeric using hash function.\n",
    "\n",
    "\n",
    "- Dataset was divided into training, validation and testing data.\n",
    "\n",
    "\n",
    "- After model building, 3 classification/ prediction models were implemented namely- Logistic Regression, Decision Tree Classifier and Random Forest Classifier. \n",
    "\n",
    "\n",
    "- Random Forest classifier and Decision tree classifier were selected for further steps to improve the model efficiency. \n",
    "\n",
    "\n",
    "- Upon cross validation and calculating evaluation metrics for both, Decision Tree classifier was observed to be a better model. The model performances do not seem to be that good as the data was extremely biased and unbalanced. \n",
    "\n",
    "\n",
    "- In the decision tree classifier model, we have used the F1 score as the evaluation metric of choice.\n",
    "\n",
    "\n",
    "- The F1 score is a measure of the balance between precision and recall, and provides a single number that summarizes the overall performance of the model. In this case, the F1 score of 0.74 indicates that the model is making both false positive and false negative errors, although it is striking a reasonable balance between the two. This means that the model is correctly identifying some instances of the target class (precision) while also minimizing the number of missed instances (recall).\n",
    "\n",
    "\n",
    "- However, the F1 score alone may not provide a complete picture of the model's performance, and it is important to consider other evaluation metrics as well. "
   ]
  },
  {
   "cell_type": "markdown",
   "metadata": {},
   "source": [
    "---------------------------------------------------------------------------------------------------------------------------\n",
    "***************************************************************************************************************************\n",
    "End of Notebook\n",
    "\n",
    "#### The zip folder uploaded consists of the dataset, Jupyter Notebook and ppt presentation converted to a pdf\n",
    "---------------------------------------------------------------------------------------------------------------------------\n",
    "***************************************************************************************************************************"
   ]
  },
  {
   "cell_type": "code",
   "execution_count": null,
   "metadata": {},
   "outputs": [],
   "source": []
  }
 ],
 "metadata": {
  "kernelspec": {
   "display_name": "Python 3",
   "language": "python",
   "name": "python3"
  },
  "language_info": {
   "codemirror_mode": {
    "name": "ipython",
    "version": 3
   },
   "file_extension": ".py",
   "mimetype": "text/x-python",
   "name": "python",
   "nbconvert_exporter": "python",
   "pygments_lexer": "ipython3",
   "version": "3.7.3"
  }
 },
 "nbformat": 4,
 "nbformat_minor": 2
}
